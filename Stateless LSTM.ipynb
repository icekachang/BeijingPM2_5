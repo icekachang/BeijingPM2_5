{
 "cells": [
  {
   "cell_type": "code",
   "execution_count": 1,
   "metadata": {
    "collapsed": true
   },
   "outputs": [],
   "source": [
    "import numpy as np\n",
    "import pandas as pd\n",
    "import matplotlib.pyplot as plt\n",
    "import seaborn as sns\n",
    "\n",
    "%matplotlib inline\n",
    "plt.style.use('seaborn-bright')"
   ]
  },
  {
   "cell_type": "markdown",
   "metadata": {},
   "source": [
    "### Loading CSV\n",
    "\n",
    "Load CSV and set index to datetime"
   ]
  },
  {
   "cell_type": "code",
   "execution_count": 2,
   "metadata": {
    "collapsed": true
   },
   "outputs": [],
   "source": [
    "from datetime import datetime\n",
    "\n",
    "# Only selecting only relevant columns year (1), month (2), day (3), hour (4), pm2.5 (5), dewp (6), temp (7), pres (8), lws (10)\n",
    "selected_column = ['year', 'month', 'day', 'hour', 'pm2.5', 'DEWP', 'TEMP', 'PRES', 'Iws']\n",
    "\n",
    "data = pd.read_csv('Haze.csv', parse_dates = [['year', 'month', 'day', 'hour']],\\\n",
    "                   date_parser = lambda x : datetime.strptime(x, '%Y %m %d %H'),\\\n",
    "                   usecols = selected_column)\n",
    "\n",
    "# Rename columns\n",
    "renamed_column = ['time', 'pm2_5', 'dewPoint', 'temp', 'pressure', 'wind_speed']\n",
    "data.columns = renamed_column\n",
    "\n",
    "# Set index as time\n",
    "data.set_index('time', drop = True, inplace = True)\n",
    "\n",
    "# Drop null value (first day)\n",
    "data.dropna(axis = 0, inplace = True)\n",
    "\n",
    "# Resampling to daily basis\n",
    "data = data.resample('D').interpolate('time')"
   ]
  },
  {
   "cell_type": "code",
   "execution_count": 3,
   "metadata": {
    "collapsed": true
   },
   "outputs": [],
   "source": [
    "# start data at 01-01-2011 as ARIMA model start at this date due to differencing of 365 days\n",
    "ndata = data\n",
    "\n",
    "# Differencing 1 days to remove stationarity and to take the difference in reading\n",
    "DIFF = 1\n",
    "ydata = data.diff(periods = DIFF).dropna()"
   ]
  },
  {
   "cell_type": "code",
   "execution_count": 4,
   "metadata": {},
   "outputs": [
    {
     "data": {
      "text/plain": [
       "(1824, 5)"
      ]
     },
     "execution_count": 4,
     "metadata": {},
     "output_type": "execute_result"
    }
   ],
   "source": [
    "ydata.shape"
   ]
  },
  {
   "cell_type": "code",
   "execution_count": 6,
   "metadata": {
    "collapsed": true
   },
   "outputs": [],
   "source": [
    "def create_data(timeseries):\n",
    "    '''\n",
    "    create_data : \n",
    "    \n",
    "    Args:\n",
    "        timeseries (numpy array) : \n",
    "    Return:\n",
    "        x (numpy array) :\n",
    "        y (numpy array) :\n",
    "    ''' \n",
    "    # Squeeze timeseries to 1d array and turn timeseries from numpy array to Series\n",
    "    timeseries = pd.Series(np.squeeze(timeseries))\n",
    "    #timeseries = pd.Series(timeseries)\n",
    "    # Create lookback as the target variable, y\n",
    "    y = timeseries[LOOKBACK:]\n",
    "    \n",
    "    # With each iteration of lag, create its column\n",
    "    X = pd.DataFrame({'lag'+str(LOOKBACK-i):timeseries.shift(-i) for i in range(0, LOOKBACK)}).dropna().iloc[:-1, :]\n",
    "    \n",
    "    return X, y"
   ]
  },
  {
   "cell_type": "markdown",
   "metadata": {},
   "source": [
    "### LSTM Conditions : 7 lookback windows and 14 days in the testing set"
   ]
  },
  {
   "cell_type": "code",
   "execution_count": 7,
   "metadata": {
    "collapsed": true
   },
   "outputs": [],
   "source": [
    "TESTDAYS = 14\n",
    "LOOKBACK = 7"
   ]
  },
  {
   "cell_type": "code",
   "execution_count": 8,
   "metadata": {
    "collapsed": true
   },
   "outputs": [],
   "source": [
    "from sklearn.preprocessing import MinMaxScaler\n",
    "\n",
    "# Scale the features to range between -1 and 1\n",
    "scaler = MinMaxScaler(feature_range = (-1, 1))\n",
    "scaled = scaler.fit_transform(ydata['pm2_5'].values.reshape(-1, 1))\n",
    "\n",
    "# Create data with 7 days lookback\n",
    "X, y = create_data(scaled)\n",
    "\n",
    "# Create a train and test set (30 days)\n",
    "X_train, X_test = X[ : -TESTDAYS], X[-TESTDAYS : ]\n",
    "y_train, y_test = y[ : -TESTDAYS], y[-TESTDAYS : ]\n",
    "\n",
    "# Expand X_train, X_test dimension such that it can become batch_size, timestep (added dimension here), lookback window\n",
    "X_train = np.expand_dims(X_train, axis = 1)\n",
    "X_test = np.expand_dims(X_test, axis = 1)"
   ]
  },
  {
   "cell_type": "code",
   "execution_count": 10,
   "metadata": {
    "collapsed": true
   },
   "outputs": [],
   "source": [
    "def transform(scaled, org_arr, scaler, test = True):\n",
    "    '''\n",
    "    transform: taking the scaled array, apply inverse tranform and un-differencing it\n",
    "    \n",
    "    Args:\n",
    "        scaled (numpy array) : predicted values\n",
    "        org_arr (Series) : original series\n",
    "        scaler (object)\n",
    "\n",
    "    Return:\n",
    "        result (Series) : overall series\n",
    "        added (Series) : only transformed series\n",
    "    '''\n",
    "\n",
    "    #scaled = scaled[:, 0]\n",
    "    scaled = scaler.inverse_transform(scaled)\n",
    "    \n",
    "    # Remove its dimension such that it is (n, ) and turn it into a Series\n",
    "    scaled = pd.Series(scaled.squeeze())\n",
    "    \n",
    "    if test == True:\n",
    "        # Adding the differenced array with the unscaled array, this resulting series will contain values from 1 to n\n",
    "        added = pd.Series(org_arr[-(DIFF + TESTDAYS) : -DIFF].values + scaled)\n",
    "        \n",
    "        # Adding the first value of the original array to a new Series\n",
    "        result = org_arr[: -(TESTDAYS)].append(added)\n",
    "    else:\n",
    "        # Adding the differenced array with the unscaled array, this resulting series will contain values from 1 to n\n",
    "        added = pd.Series(org_arr[LOOKBACK : -(DIFF + TESTDAYS)].values + scaled)\n",
    "        \n",
    "        # Adding the first value of the original array to a new Series\n",
    "        result = org_arr[: (DIFF + LOOKBACK)].append(added)\n",
    "\n",
    "    # Reset index of result\n",
    "    result.reset_index(drop = True, inplace = True)\n",
    "    \n",
    "    return result, added"
   ]
  },
  {
   "cell_type": "markdown",
   "metadata": {},
   "source": [
    "### Using a Stateless 1 Layer LSTM model"
   ]
  },
  {
   "cell_type": "code",
   "execution_count": 11,
   "metadata": {},
   "outputs": [
    {
     "name": "stderr",
     "output_type": "stream",
     "text": [
      "Using TensorFlow backend.\n"
     ]
    }
   ],
   "source": [
    "from keras.models import Sequential\n",
    "from keras.layers import Dense, LSTM\n",
    "from keras.callbacks import TensorBoard, ModelCheckpoint"
   ]
  },
  {
   "cell_type": "code",
   "execution_count": 12,
   "metadata": {
    "collapsed": true
   },
   "outputs": [],
   "source": [
    "# Create Tensorboard for visualization\n",
    "tensorboard = TensorBoard(log_dir = './logs')\n",
    "\n",
    "# Create checkpoint that saves only best model\n",
    "checkpoint = ModelCheckpoint('./checkpoints/stateless_lstm.hdf5', save_best_only = True)"
   ]
  },
  {
   "cell_type": "code",
   "execution_count": 13,
   "metadata": {
    "collapsed": true
   },
   "outputs": [],
   "source": [
    "# Create sequential layers\n",
    "model = Sequential()\n",
    "\n",
    "# Create 1 layer LSTM with input shape of LOOKBACK (7 lags)\n",
    "model.add(LSTM(16, input_shape = (None, LOOKBACK)))\n",
    "\n",
    "# Add squashing function\n",
    "model.add(Dense(1))\n",
    "\n",
    "# Compile model with ADAM optimizer and with MSE as its loss\n",
    "model.compile(loss = 'mean_squared_error', optimizer = 'adam', metrics = ['mean_squared_error'])"
   ]
  },
  {
   "cell_type": "code",
   "execution_count": 14,
   "metadata": {
    "scrolled": true
   },
   "outputs": [
    {
     "name": "stdout",
     "output_type": "stream",
     "text": [
      "Train on 1803 samples, validate on 14 samples\n",
      "Epoch 1/20\n",
      "1803/1803 [==============================] - 10s - loss: 0.0443 - mean_squared_error: 0.0443 - val_loss: 0.0740 - val_mean_squared_error: 0.0740\n",
      "Epoch 2/20\n",
      "1803/1803 [==============================] - 6s - loss: 0.0385 - mean_squared_error: 0.0385 - val_loss: 0.0708 - val_mean_squared_error: 0.0708\n",
      "Epoch 3/20\n",
      "1803/1803 [==============================] - 6s - loss: 0.0367 - mean_squared_error: 0.0367 - val_loss: 0.0683 - val_mean_squared_error: 0.0683\n",
      "Epoch 4/20\n",
      "1803/1803 [==============================] - 7s - loss: 0.0360 - mean_squared_error: 0.0360 - val_loss: 0.0642 - val_mean_squared_error: 0.0642\n",
      "Epoch 5/20\n",
      "1803/1803 [==============================] - 6s - loss: 0.0356 - mean_squared_error: 0.0356 - val_loss: 0.0659 - val_mean_squared_error: 0.0659\n",
      "Epoch 6/20\n",
      "1803/1803 [==============================] - 5s - loss: 0.0354 - mean_squared_error: 0.0354 - val_loss: 0.0631 - val_mean_squared_error: 0.0631\n",
      "Epoch 7/20\n",
      "1803/1803 [==============================] - 5s - loss: 0.0350 - mean_squared_error: 0.0350 - val_loss: 0.0655 - val_mean_squared_error: 0.0655\n",
      "Epoch 8/20\n",
      "1803/1803 [==============================] - 6s - loss: 0.0352 - mean_squared_error: 0.0352 - val_loss: 0.0665 - val_mean_squared_error: 0.0665\n",
      "Epoch 9/20\n",
      "1803/1803 [==============================] - 5s - loss: 0.0349 - mean_squared_error: 0.0349 - val_loss: 0.0578 - val_mean_squared_error: 0.0578\n",
      "Epoch 10/20\n",
      "1803/1803 [==============================] - 5s - loss: 0.0351 - mean_squared_error: 0.0351 - val_loss: 0.0653 - val_mean_squared_error: 0.0653\n",
      "Epoch 11/20\n",
      "1803/1803 [==============================] - 5s - loss: 0.0350 - mean_squared_error: 0.0350 - val_loss: 0.0650 - val_mean_squared_error: 0.0650\n",
      "Epoch 12/20\n",
      "1803/1803 [==============================] - 4s - loss: 0.0346 - mean_squared_error: 0.0346 - val_loss: 0.0711 - val_mean_squared_error: 0.0711\n",
      "Epoch 13/20\n",
      "1803/1803 [==============================] - 4s - loss: 0.0348 - mean_squared_error: 0.0348 - val_loss: 0.0653 - val_mean_squared_error: 0.0653\n",
      "Epoch 14/20\n",
      "1803/1803 [==============================] - 4s - loss: 0.0347 - mean_squared_error: 0.0347 - val_loss: 0.0634 - val_mean_squared_error: 0.0634\n",
      "Epoch 15/20\n",
      "1803/1803 [==============================] - 4s - loss: 0.0348 - mean_squared_error: 0.0348 - val_loss: 0.0624 - val_mean_squared_error: 0.0624\n",
      "Epoch 16/20\n",
      "1803/1803 [==============================] - 4s - loss: 0.0346 - mean_squared_error: 0.0346 - val_loss: 0.0633 - val_mean_squared_error: 0.0633\n",
      "Epoch 17/20\n",
      "1803/1803 [==============================] - 4s - loss: 0.0345 - mean_squared_error: 0.0345 - val_loss: 0.0590 - val_mean_squared_error: 0.0590\n",
      "Epoch 18/20\n",
      "1803/1803 [==============================] - 4s - loss: 0.0346 - mean_squared_error: 0.0346 - val_loss: 0.0671 - val_mean_squared_error: 0.0671\n",
      "Epoch 19/20\n",
      "1803/1803 [==============================] - 4s - loss: 0.0344 - mean_squared_error: 0.0344 - val_loss: 0.0636 - val_mean_squared_error: 0.0636\n",
      "Epoch 20/20\n",
      "1803/1803 [==============================] - 4s - loss: 0.0344 - mean_squared_error: 0.0344 - val_loss: 0.0707 - val_mean_squared_error: 0.0707\n"
     ]
    },
    {
     "data": {
      "text/plain": [
       "<keras.callbacks.History at 0x236059fe128>"
      ]
     },
     "execution_count": 14,
     "metadata": {},
     "output_type": "execute_result"
    }
   ],
   "source": [
    "# Fit model with validation and callbacks\n",
    "model.fit(X_train, y_train, batch_size = 1, epochs = 20, \\\n",
    "          callbacks = [checkpoint, tensorboard], validation_data = (X_test, y_test))"
   ]
  },
  {
   "cell_type": "code",
   "execution_count": 15,
   "metadata": {
    "collapsed": true
   },
   "outputs": [],
   "source": [
    "# Get predicted data\n",
    "y_pred = model.predict(X_test)"
   ]
  },
  {
   "cell_type": "code",
   "execution_count": 16,
   "metadata": {},
   "outputs": [
    {
     "data": {
      "text/plain": [
       "time\n",
       "2014-12-18     40.517834\n",
       "2014-12-19     83.278900\n",
       "2014-12-20    146.081825\n",
       "2014-12-21     59.819763\n",
       "2014-12-22     50.002277\n",
       "2014-12-23     61.535833\n",
       "2014-12-24    109.274139\n",
       "2014-12-25     45.488487\n",
       "2014-12-26     63.512447\n",
       "2014-12-27     73.613791\n",
       "2014-12-28    105.749695\n",
       "2014-12-29    175.289078\n",
       "2014-12-30    199.564819\n",
       "2014-12-31    195.958413\n",
       "Freq: D, dtype: float64"
      ]
     },
     "execution_count": 16,
     "metadata": {},
     "output_type": "execute_result"
    }
   ],
   "source": [
    "# Transform data back into undifferenced data\n",
    "_, predicted = transform(y_pred, data['pm2_5'], scaler)\n",
    "\n",
    "# Get index for plotting\n",
    "predicted.index = data['pm2_5'][-TESTDAYS:].index\n",
    "\n",
    "predicted"
   ]
  },
  {
   "cell_type": "code",
   "execution_count": 17,
   "metadata": {},
   "outputs": [
    {
     "data": {
      "text/plain": [
       "133.77277782699454"
      ]
     },
     "execution_count": 17,
     "metadata": {},
     "output_type": "execute_result"
    }
   ],
   "source": [
    "from sklearn.metrics import mean_squared_error\n",
    "\n",
    "# Calculated root mean squared error of PM2.5 measurements\n",
    "rmse = np.sqrt(mean_squared_error(data['pm2_5'][-TESTDAYS:].values, predicted))\n",
    "rmse"
   ]
  },
  {
   "cell_type": "code",
   "execution_count": 18,
   "metadata": {
    "scrolled": false
   },
   "outputs": [
    {
     "data": {
      "text/plain": [
       "<matplotlib.legend.Legend at 0x2360959e198>"
      ]
     },
     "execution_count": 18,
     "metadata": {},
     "output_type": "execute_result"
    },
    {
     "data": {
      "image/png": "[encoded data removed]",
      "text/plain": [
       "<matplotlib.figure.Figure at 0x2360b84b908>"
      ]
     },
     "metadata": {},
     "output_type": "display_data"
    }
   ],
   "source": [
    "# Plot predicted vs actual\n",
    "\n",
    "plt.figure(figsize = (12, 8))\n",
    "plt.title('Actual vs Predicted result for last 14 days with RMSE of {:.3f} PM2.5 Measurement'.format(rmse))\n",
    "predicted.plot(label = 'Predicted')\n",
    "data['pm2_5'][-TESTDAYS:].plot(label = 'Actual')\n",
    "plt.legend(loc = 'best')"
   ]
  },
  {
   "cell_type": "markdown",
   "metadata": {},
   "source": [
    "### Stacked Stateless LSTM"
   ]
  },
  {
   "cell_type": "code",
   "execution_count": 19,
   "metadata": {
    "collapsed": true
   },
   "outputs": [],
   "source": [
    "# Create Tensorboard for visualization\n",
    "tensorboard = TensorBoard(log_dir = './logs')\n",
    "\n",
    "# Create checkpoint that saves only best model\n",
    "checkpoint = ModelCheckpoint('./checkpoints/stateless_2_layer_lstm.hdf5', save_best_only = True)"
   ]
  },
  {
   "cell_type": "code",
   "execution_count": 20,
   "metadata": {
    "collapsed": true
   },
   "outputs": [],
   "source": [
    "# Create sequential layers\n",
    "model = Sequential()\n",
    "\n",
    "# Create first layer of LSTM with input shape of LOOKBACK (7 lags)\n",
    "model.add(LSTM(16, input_shape = (None, LOOKBACK), return_sequences = True))\n",
    "\n",
    "# Create second layer of LSTM\n",
    "model.add(LSTM(16, input_shape = (None, LOOKBACK)))\n",
    "\n",
    "# Add squashing function\n",
    "model.add(Dense(1))\n",
    "\n",
    "# Compile model with ADAM optimizer and with MSE as its loss\n",
    "model.compile(loss = 'mean_squared_error', optimizer = 'adam', metrics = ['mean_squared_error'])"
   ]
  },
  {
   "cell_type": "code",
   "execution_count": 21,
   "metadata": {
    "scrolled": true
   },
   "outputs": [
    {
     "name": "stdout",
     "output_type": "stream",
     "text": [
      "Train on 1803 samples, validate on 14 samples\n",
      "Epoch 1/20\n",
      "1803/1803 [==============================] - 13s - loss: 0.0438 - mean_squared_error: 0.0438 - val_loss: 0.0717 - val_mean_squared_error: 0.0717\n",
      "Epoch 2/20\n",
      "1803/1803 [==============================] - 14s - loss: 0.0383 - mean_squared_error: 0.0383 - val_loss: 0.0657 - val_mean_squared_error: 0.0657\n",
      "Epoch 3/20\n",
      "1803/1803 [==============================] - 8s - loss: 0.0365 - mean_squared_error: 0.0365 - val_loss: 0.0765 - val_mean_squared_error: 0.0765\n",
      "Epoch 4/20\n",
      "1803/1803 [==============================] - 7s - loss: 0.0357 - mean_squared_error: 0.0357 - val_loss: 0.0643 - val_mean_squared_error: 0.0643\n",
      "Epoch 5/20\n",
      "1803/1803 [==============================] - 8s - loss: 0.0356 - mean_squared_error: 0.0356 - val_loss: 0.0651 - val_mean_squared_error: 0.0651\n",
      "Epoch 6/20\n",
      "1803/1803 [==============================] - 8s - loss: 0.0351 - mean_squared_error: 0.0351 - val_loss: 0.0778 - val_mean_squared_error: 0.0778\n",
      "Epoch 7/20\n",
      "1803/1803 [==============================] - 8s - loss: 0.0350 - mean_squared_error: 0.0350 - val_loss: 0.0631 - val_mean_squared_error: 0.0631\n",
      "Epoch 8/20\n",
      "1803/1803 [==============================] - 9s - loss: 0.0351 - mean_squared_error: 0.0351 - val_loss: 0.0660 - val_mean_squared_error: 0.0660\n",
      "Epoch 9/20\n",
      "1803/1803 [==============================] - 9s - loss: 0.0347 - mean_squared_error: 0.0347 - val_loss: 0.0620 - val_mean_squared_error: 0.0620\n",
      "Epoch 10/20\n",
      "1803/1803 [==============================] - 8s - loss: 0.0347 - mean_squared_error: 0.0347 - val_loss: 0.0655 - val_mean_squared_error: 0.0655\n",
      "Epoch 11/20\n",
      "1803/1803 [==============================] - 9s - loss: 0.0346 - mean_squared_error: 0.0346 - val_loss: 0.0739 - val_mean_squared_error: 0.0739\n",
      "Epoch 12/20\n",
      "1803/1803 [==============================] - 9s - loss: 0.0343 - mean_squared_error: 0.0343 - val_loss: 0.0595 - val_mean_squared_error: 0.0595\n",
      "Epoch 13/20\n",
      "1803/1803 [==============================] - 9s - loss: 0.0347 - mean_squared_error: 0.0347 - val_loss: 0.0714 - val_mean_squared_error: 0.0714\n",
      "Epoch 14/20\n",
      "1803/1803 [==============================] - 8s - loss: 0.0343 - mean_squared_error: 0.0343 - val_loss: 0.0712 - val_mean_squared_error: 0.0712\n",
      "Epoch 15/20\n",
      "1803/1803 [==============================] - 8s - loss: 0.0345 - mean_squared_error: 0.0345 - val_loss: 0.0592 - val_mean_squared_error: 0.0592\n",
      "Epoch 16/20\n",
      "1803/1803 [==============================] - 7s - loss: 0.0345 - mean_squared_error: 0.0345 - val_loss: 0.0677 - val_mean_squared_error: 0.0677\n",
      "Epoch 17/20\n",
      "1803/1803 [==============================] - 7s - loss: 0.0344 - mean_squared_error: 0.0344 - val_loss: 0.0717 - val_mean_squared_error: 0.0717\n",
      "Epoch 18/20\n",
      "1803/1803 [==============================] - 8s - loss: 0.0341 - mean_squared_error: 0.0341 - val_loss: 0.0658 - val_mean_squared_error: 0.0658\n",
      "Epoch 19/20\n",
      "1803/1803 [==============================] - 7s - loss: 0.0345 - mean_squared_error: 0.0345 - val_loss: 0.0604 - val_mean_squared_error: 0.0604\n",
      "Epoch 20/20\n",
      "1803/1803 [==============================] - 7s - loss: 0.0342 - mean_squared_error: 0.0342 - val_loss: 0.0573 - val_mean_squared_error: 0.0573\n"
     ]
    },
    {
     "data": {
      "text/plain": [
       "<keras.callbacks.History at 0x2360b8bffd0>"
      ]
     },
     "execution_count": 21,
     "metadata": {},
     "output_type": "execute_result"
    }
   ],
   "source": [
    "# Fit model with validation and callbacks\n",
    "model.fit(X_train, y_train, batch_size = 1, epochs = 20, \\\n",
    "          callbacks = [checkpoint, tensorboard], validation_data = (X_test, y_test))"
   ]
  },
  {
   "cell_type": "code",
   "execution_count": 22,
   "metadata": {},
   "outputs": [],
   "source": [
    "# Get predicted data\n",
    "y_pred = model.predict(X_test)"
   ]
  },
  {
   "cell_type": "code",
   "execution_count": 23,
   "metadata": {},
   "outputs": [
    {
     "data": {
      "text/plain": [
       "time\n",
       "2014-12-18     44.163010\n",
       "2014-12-19    145.850590\n",
       "2014-12-20    182.786400\n",
       "2014-12-21     42.240639\n",
       "2014-12-22     39.195950\n",
       "2014-12-23     91.831238\n",
       "2014-12-24    136.721508\n",
       "2014-12-25     40.662405\n",
       "2014-12-26     56.358372\n",
       "2014-12-27    111.418404\n",
       "2014-12-28    140.006632\n",
       "2014-12-29    227.767517\n",
       "2014-12-30    223.677200\n",
       "2014-12-31    195.934309\n",
       "Freq: D, dtype: float64"
      ]
     },
     "execution_count": 23,
     "metadata": {},
     "output_type": "execute_result"
    }
   ],
   "source": [
    "# Transform data back into undifferenced data\n",
    "_, predicted = transform(y_pred, data['pm2_5'], scaler)\n",
    "\n",
    "# Get index for plotting\n",
    "predicted.index = data['pm2_5'][-TESTDAYS:].index\n",
    "\n",
    "predicted"
   ]
  },
  {
   "cell_type": "code",
   "execution_count": 24,
   "metadata": {},
   "outputs": [
    {
     "data": {
      "text/plain": [
       "120.35568615547011"
      ]
     },
     "execution_count": 24,
     "metadata": {},
     "output_type": "execute_result"
    }
   ],
   "source": [
    "# Calculated root mean squared error of PM2.5 measurements\n",
    "rmse = np.sqrt(mean_squared_error(data['pm2_5'][-TESTDAYS:].values, predicted))\n",
    "rmse"
   ]
  },
  {
   "cell_type": "code",
   "execution_count": 25,
   "metadata": {},
   "outputs": [
    {
     "data": {
      "text/plain": [
       "<matplotlib.legend.Legend at 0x2361327a908>"
      ]
     },
     "execution_count": 25,
     "metadata": {},
     "output_type": "execute_result"
    },
    {
     "data": {
      "image/png": "[encoded data removed]",
      "text/plain": [
       "<matplotlib.figure.Figure at 0x2360c64f2e8>"
      ]
     },
     "metadata": {},
     "output_type": "display_data"
    }
   ],
   "source": [
    "# Plot predicted vs actual\n",
    "\n",
    "plt.figure(figsize = (12, 8))\n",
    "plt.title('Actual vs Predicted result for last 14 days with RMSE of {:.3f} PM2.5 Measurement'.format(rmse))\n",
    "predicted.plot(label = 'Predicted')\n",
    "data['pm2_5'][-TESTDAYS:].plot(label = 'Actual')\n",
    "plt.legend(loc = 'best')"
   ]
  },
  {
   "cell_type": "code",
   "execution_count": 27,
   "metadata": {},
   "outputs": [
    {
     "data": {
      "text/plain": [
       "time\n",
       "2014-12-18    180.0\n",
       "2014-12-19    274.0\n",
       "2014-12-20      9.0\n",
       "2014-12-21      4.0\n",
       "2014-12-22     53.0\n",
       "2014-12-23    142.0\n",
       "2014-12-24     13.0\n",
       "2014-12-25     20.0\n",
       "2014-12-26     93.0\n",
       "2014-12-27    163.0\n",
       "2014-12-28    385.0\n",
       "2014-12-29    362.0\n",
       "2014-12-30    189.0\n",
       "2014-12-31     10.0\n",
       "Freq: D, Name: pm2_5, dtype: float64"
      ]
     },
     "execution_count": 27,
     "metadata": {},
     "output_type": "execute_result"
    }
   ],
   "source": [
    "data['pm2_5'][-TESTDAYS:]"
   ]
  }
 ],
 "metadata": {
  "hide_input": false,
  "kernelspec": {
   "display_name": "Python 3",
   "language": "python",
   "name": "python3"
  },
  "language_info": {
   "codemirror_mode": {
    "name": "ipython",
    "version": 3
   },
   "file_extension": ".py",
   "mimetype": "text/x-python",
   "name": "python",
   "nbconvert_exporter": "python",
   "pygments_lexer": "ipython3",
   "version": "3.6.1"
  }
 },
 "nbformat": 4,
 "nbformat_minor": 2
}
