{
 "cells": [
  {
   "cell_type": "code",
   "execution_count": 1,
   "metadata": {
    "collapsed": true
   },
   "outputs": [],
   "source": [
    "import numpy as np\n",
    "import pandas as pd\n",
    "import matplotlib.pyplot as plt\n",
    "import seaborn as sns\n",
    "\n",
    "%matplotlib inline\n",
    "plt.style.use('seaborn-bright')"
   ]
  },
  {
   "cell_type": "markdown",
   "metadata": {},
   "source": [
    "### Loading CSV\n",
    "\n",
    "Load CSV and set index to datetime"
   ]
  },
  {
   "cell_type": "code",
   "execution_count": 2,
   "metadata": {
    "collapsed": true
   },
   "outputs": [],
   "source": [
    "from datetime import datetime\n",
    "\n",
    "# Only selecting only relevant columns year (1), month (2), day (3), hour (4), pm2.5 (5), dewp (6), temp (7), pres (8), lws (10)\n",
    "selected_column = ['year', 'month', 'day', 'hour', 'pm2.5', 'DEWP', 'TEMP', 'PRES', 'Iws']\n",
    "\n",
    "data = pd.read_csv('Haze.csv', parse_dates = [['year', 'month', 'day', 'hour']],\\\n",
    "                   date_parser = lambda x : datetime.strptime(x, '%Y %m %d %H'),\\\n",
    "                   usecols = selected_column)\n",
    "\n",
    "# Rename columns\n",
    "renamed_column = ['time', 'pm2_5', 'dewPoint', 'temp', 'pressure', 'wind_speed']\n",
    "data.columns = renamed_column\n",
    "\n",
    "# Set index as time\n",
    "data.set_index('time', drop = True, inplace = True)\n",
    "\n",
    "# Drop null value (first day)\n",
    "data.dropna(axis = 0, inplace = True)\n",
    "\n",
    "# Resampling to daily basis\n",
    "data = data.resample('D').interpolate('time')"
   ]
  },
  {
   "cell_type": "code",
   "execution_count": 47,
   "metadata": {},
   "outputs": [],
   "source": [
    "# Differencing 1 days to remove stationarity and to take the difference in reading\n",
    "DIFF = 1\n",
    "ydata = data.diff(periods = DIFF).dropna()"
   ]
  },
  {
   "cell_type": "code",
   "execution_count": 48,
   "metadata": {},
   "outputs": [
    {
     "data": {
      "text/html": [
       "<div>\n",
       "<style>\n",
       "    .dataframe thead tr:only-child th {\n",
       "        text-align: right;\n",
       "    }\n",
       "\n",
       "    .dataframe thead th {\n",
       "        text-align: left;\n",
       "    }\n",
       "\n",
       "    .dataframe tbody tr th {\n",
       "        vertical-align: top;\n",
       "    }\n",
       "</style>\n",
       "<table border=\"1\" class=\"dataframe\">\n",
       "  <thead>\n",
       "    <tr style=\"text-align: right;\">\n",
       "      <th></th>\n",
       "      <th>pm2_5</th>\n",
       "      <th>dewPoint</th>\n",
       "      <th>temp</th>\n",
       "      <th>pressure</th>\n",
       "      <th>wind_speed</th>\n",
       "    </tr>\n",
       "    <tr>\n",
       "      <th>time</th>\n",
       "      <th></th>\n",
       "      <th></th>\n",
       "      <th></th>\n",
       "      <th></th>\n",
       "      <th></th>\n",
       "    </tr>\n",
       "  </thead>\n",
       "  <tbody>\n",
       "    <tr>\n",
       "      <th>2014-12-18</th>\n",
       "      <td>171.0</td>\n",
       "      <td>4.0</td>\n",
       "      <td>-3.0</td>\n",
       "      <td>0.0</td>\n",
       "      <td>-316.47</td>\n",
       "    </tr>\n",
       "    <tr>\n",
       "      <th>2014-12-19</th>\n",
       "      <td>94.0</td>\n",
       "      <td>6.0</td>\n",
       "      <td>1.0</td>\n",
       "      <td>-6.0</td>\n",
       "      <td>-0.90</td>\n",
       "    </tr>\n",
       "    <tr>\n",
       "      <th>2014-12-20</th>\n",
       "      <td>-265.0</td>\n",
       "      <td>-11.0</td>\n",
       "      <td>2.0</td>\n",
       "      <td>7.0</td>\n",
       "      <td>182.83</td>\n",
       "    </tr>\n",
       "    <tr>\n",
       "      <th>2014-12-21</th>\n",
       "      <td>-5.0</td>\n",
       "      <td>-2.0</td>\n",
       "      <td>0.0</td>\n",
       "      <td>1.0</td>\n",
       "      <td>138.12</td>\n",
       "    </tr>\n",
       "    <tr>\n",
       "      <th>2014-12-22</th>\n",
       "      <td>49.0</td>\n",
       "      <td>4.0</td>\n",
       "      <td>-1.0</td>\n",
       "      <td>-9.0</td>\n",
       "      <td>-320.06</td>\n",
       "    </tr>\n",
       "    <tr>\n",
       "      <th>2014-12-23</th>\n",
       "      <td>89.0</td>\n",
       "      <td>4.0</td>\n",
       "      <td>-1.0</td>\n",
       "      <td>-1.0</td>\n",
       "      <td>-0.89</td>\n",
       "    </tr>\n",
       "    <tr>\n",
       "      <th>2014-12-24</th>\n",
       "      <td>-129.0</td>\n",
       "      <td>-3.0</td>\n",
       "      <td>7.0</td>\n",
       "      <td>3.0</td>\n",
       "      <td>0.00</td>\n",
       "    </tr>\n",
       "    <tr>\n",
       "      <th>2014-12-25</th>\n",
       "      <td>7.0</td>\n",
       "      <td>1.0</td>\n",
       "      <td>0.0</td>\n",
       "      <td>8.0</td>\n",
       "      <td>74.66</td>\n",
       "    </tr>\n",
       "    <tr>\n",
       "      <th>2014-12-26</th>\n",
       "      <td>73.0</td>\n",
       "      <td>3.0</td>\n",
       "      <td>-5.0</td>\n",
       "      <td>0.0</td>\n",
       "      <td>-71.08</td>\n",
       "    </tr>\n",
       "    <tr>\n",
       "      <th>2014-12-27</th>\n",
       "      <td>70.0</td>\n",
       "      <td>1.0</td>\n",
       "      <td>-2.0</td>\n",
       "      <td>-3.0</td>\n",
       "      <td>-2.68</td>\n",
       "    </tr>\n",
       "    <tr>\n",
       "      <th>2014-12-28</th>\n",
       "      <td>222.0</td>\n",
       "      <td>1.0</td>\n",
       "      <td>-1.0</td>\n",
       "      <td>-5.0</td>\n",
       "      <td>4.90</td>\n",
       "    </tr>\n",
       "    <tr>\n",
       "      <th>2014-12-29</th>\n",
       "      <td>-23.0</td>\n",
       "      <td>-1.0</td>\n",
       "      <td>2.0</td>\n",
       "      <td>-9.0</td>\n",
       "      <td>-2.68</td>\n",
       "    </tr>\n",
       "    <tr>\n",
       "      <th>2014-12-30</th>\n",
       "      <td>-173.0</td>\n",
       "      <td>-2.0</td>\n",
       "      <td>2.0</td>\n",
       "      <td>0.0</td>\n",
       "      <td>-3.12</td>\n",
       "    </tr>\n",
       "    <tr>\n",
       "      <th>2014-12-31</th>\n",
       "      <td>-179.0</td>\n",
       "      <td>-7.0</td>\n",
       "      <td>1.0</td>\n",
       "      <td>11.0</td>\n",
       "      <td>50.95</td>\n",
       "    </tr>\n",
       "  </tbody>\n",
       "</table>\n",
       "</div>"
      ],
      "text/plain": [
       "            pm2_5  dewPoint  temp  pressure  wind_speed\n",
       "time                                                   \n",
       "2014-12-18  171.0       4.0  -3.0       0.0     -316.47\n",
       "2014-12-19   94.0       6.0   1.0      -6.0       -0.90\n",
       "2014-12-20 -265.0     -11.0   2.0       7.0      182.83\n",
       "2014-12-21   -5.0      -2.0   0.0       1.0      138.12\n",
       "2014-12-22   49.0       4.0  -1.0      -9.0     -320.06\n",
       "2014-12-23   89.0       4.0  -1.0      -1.0       -0.89\n",
       "2014-12-24 -129.0      -3.0   7.0       3.0        0.00\n",
       "2014-12-25    7.0       1.0   0.0       8.0       74.66\n",
       "2014-12-26   73.0       3.0  -5.0       0.0      -71.08\n",
       "2014-12-27   70.0       1.0  -2.0      -3.0       -2.68\n",
       "2014-12-28  222.0       1.0  -1.0      -5.0        4.90\n",
       "2014-12-29  -23.0      -1.0   2.0      -9.0       -2.68\n",
       "2014-12-30 -173.0      -2.0   2.0       0.0       -3.12\n",
       "2014-12-31 -179.0      -7.0   1.0      11.0       50.95"
      ]
     },
     "execution_count": 48,
     "metadata": {},
     "output_type": "execute_result"
    }
   ],
   "source": [
    "ydata.tail(14)"
   ]
  },
  {
   "cell_type": "code",
   "execution_count": 5,
   "metadata": {
    "collapsed": true
   },
   "outputs": [],
   "source": [
    "def create_data(timeseries):\n",
    "    '''\n",
    "    create_data : \n",
    "    \n",
    "    Args:\n",
    "        timeseries (numpy array) : \n",
    "    Return:\n",
    "        x (numpy array) :\n",
    "        y (numpy array) :\n",
    "    ''' \n",
    "    # Squeeze timeseries to 1d array and turn timeseries from numpy array to Series\n",
    "    timeseries = pd.Series(np.squeeze(timeseries))\n",
    "    #timeseries = pd.Series(timeseries)\n",
    "    # Create lookback as the target variable, y\n",
    "    y = timeseries[LOOKBACK:]\n",
    "    \n",
    "    # With each iteration of lag, create its column\n",
    "    X = pd.DataFrame({'lag'+str(LOOKBACK-i):timeseries.shift(-i) for i in range(0, LOOKBACK)}).dropna().iloc[:-1, :]\n",
    "    \n",
    "    return X, y"
   ]
  },
  {
   "cell_type": "markdown",
   "metadata": {},
   "source": [
    "### LSTM Conditions : 7 lookback windows and 14 days in the testing set"
   ]
  },
  {
   "cell_type": "code",
   "execution_count": 49,
   "metadata": {
    "collapsed": true
   },
   "outputs": [],
   "source": [
    "TESTDAYS = 14\n",
    "LOOKBACK = 7"
   ]
  },
  {
   "cell_type": "code",
   "execution_count": 50,
   "metadata": {
    "collapsed": true
   },
   "outputs": [],
   "source": [
    "from sklearn.preprocessing import MinMaxScaler\n",
    "\n",
    "# Scale the features to range between -1 and 1\n",
    "scaler = MinMaxScaler(feature_range = (-1, 1))\n",
    "scaled = scaler.fit_transform(ydata['pm2_5'].values.reshape(-1, 1))\n",
    "\n",
    "# Create data with 7 days lookback\n",
    "X, y = create_data(scaled)\n",
    "\n",
    "# Create a train and test set (30 days)\n",
    "X_train, X_test = X[ : -TESTDAYS], X[-TESTDAYS : ]\n",
    "y_train, y_test = y[ : -TESTDAYS], y[-TESTDAYS : ]\n",
    "\n",
    "# Expand X_train, X_test dimension such that it can become batch_size, timestep (added dimension here), lookback window\n",
    "X_train = np.expand_dims(X_train, axis = 1)\n",
    "X_test = np.expand_dims(X_test, axis = 1)"
   ]
  },
  {
   "cell_type": "code",
   "execution_count": 51,
   "metadata": {
    "collapsed": true
   },
   "outputs": [],
   "source": [
    "def transform(scaled, org_arr, scaler, test = True):\n",
    "    '''\n",
    "    transform: taking the scaled array, apply inverse tranform and un-differencing it\n",
    "    \n",
    "    Args:\n",
    "        scaled (numpy array) : predicted values\n",
    "        org_arr (Series) : original series\n",
    "        scaler (object)\n",
    "\n",
    "    Return:\n",
    "        result (Series) : overall series\n",
    "        added (Series) : only transformed series\n",
    "    '''\n",
    "\n",
    "    #scaled = scaled[:, 0]\n",
    "    scaled = scaler.inverse_transform(scaled)\n",
    "    \n",
    "    # Remove its dimension such that it is (n, ) and turn it into a Series\n",
    "    scaled = pd.Series(scaled.squeeze())\n",
    "    \n",
    "    if test == True:\n",
    "        # Adding the differenced array with the unscaled array, this resulting series will contain values from 1 to n\n",
    "        added = pd.Series(org_arr[-(DIFF + TESTDAYS) : -DIFF].values + scaled)\n",
    "        \n",
    "        # Adding the first value of the original array to a new Series\n",
    "        result = org_arr[: -(TESTDAYS)].append(added)\n",
    "    else:\n",
    "        # Adding the differenced array with the unscaled array, this resulting series will contain values from 1 to n\n",
    "        added = pd.Series(org_arr[LOOKBACK : -(DIFF + TESTDAYS)].values + scaled)\n",
    "        \n",
    "        # Adding the first value of the original array to a new Series\n",
    "        result = org_arr[: (DIFF + LOOKBACK)].append(added)\n",
    "\n",
    "    # Reset index of result\n",
    "    result.reset_index(drop = True, inplace = True)\n",
    "    \n",
    "    return result, added"
   ]
  },
  {
   "cell_type": "markdown",
   "metadata": {},
   "source": [
    "### Using a Stateless 1 Layer LSTM model"
   ]
  },
  {
   "cell_type": "code",
   "execution_count": 9,
   "metadata": {},
   "outputs": [
    {
     "name": "stderr",
     "output_type": "stream",
     "text": [
      "Using TensorFlow backend.\n"
     ]
    }
   ],
   "source": [
    "from keras.models import Sequential\n",
    "from keras.layers import Dense, LSTM\n",
    "from keras.callbacks import  TensorBoard, ModelCheckpoint"
   ]
  },
  {
   "cell_type": "code",
   "execution_count": 52,
   "metadata": {
    "scrolled": true
   },
   "outputs": [
    {
     "name": "stdout",
     "output_type": "stream",
     "text": [
      "Train on 1803 samples, validate on 14 samples\n",
      "Epoch 1/20\n",
      "1803/1803 [==============================] - 8s - loss: 0.0437 - val_loss: 0.0760\n",
      "Epoch 2/20\n",
      "1803/1803 [==============================] - 7s - loss: 0.0389 - val_loss: 0.0689\n",
      "Epoch 3/20\n",
      "1803/1803 [==============================] - 7s - loss: 0.0370 - val_loss: 0.0672\n",
      "Epoch 4/20\n",
      "1803/1803 [==============================] - 7s - loss: 0.0361 - val_loss: 0.0689\n",
      "Epoch 5/20\n",
      "1803/1803 [==============================] - 7s - loss: 0.0358 - val_loss: 0.0687\n",
      "Epoch 6/20\n",
      "1803/1803 [==============================] - 7s - loss: 0.0353 - val_loss: 0.0647\n",
      "Epoch 7/20\n",
      "1803/1803 [==============================] - 7s - loss: 0.0351 - val_loss: 0.0681\n",
      "Epoch 8/20\n",
      "1803/1803 [==============================] - 7s - loss: 0.0351 - val_loss: 0.0611\n",
      "Epoch 9/20\n",
      "1803/1803 [==============================] - 7s - loss: 0.0349 - val_loss: 0.0629\n",
      "Epoch 10/20\n",
      "1803/1803 [==============================] - 7s - loss: 0.0347 - val_loss: 0.0617\n",
      "Epoch 11/20\n",
      "1803/1803 [==============================] - 7s - loss: 0.0349 - val_loss: 0.0640\n",
      "Epoch 12/20\n",
      "1803/1803 [==============================] - 5s - loss: 0.0347 - val_loss: 0.0661\n",
      "Epoch 13/20\n",
      "1803/1803 [==============================] - 4s - loss: 0.0347 - val_loss: 0.0663\n",
      "Epoch 14/20\n",
      "1803/1803 [==============================] - 4s - loss: 0.0345 - val_loss: 0.0612\n",
      "Epoch 15/20\n",
      "1803/1803 [==============================] - 4s - loss: 0.0346 - val_loss: 0.0628\n",
      "Epoch 16/20\n",
      "1803/1803 [==============================] - 4s - loss: 0.0344 - val_loss: 0.0657\n",
      "Epoch 17/20\n",
      "1803/1803 [==============================] - 4s - loss: 0.0344 - val_loss: 0.0647\n",
      "Epoch 18/20\n",
      "1803/1803 [==============================] - 5s - loss: 0.0343 - val_loss: 0.0657\n",
      "Epoch 19/20\n",
      "1803/1803 [==============================] - 5s - loss: 0.0343 - val_loss: 0.0606\n",
      "Epoch 20/20\n",
      "1803/1803 [==============================] - 5s - loss: 0.0344 - val_loss: 0.0660\n"
     ]
    },
    {
     "data": {
      "text/plain": [
       "<keras.callbacks.History at 0x2414b5ef5f8>"
      ]
     },
     "execution_count": 52,
     "metadata": {},
     "output_type": "execute_result"
    }
   ],
   "source": [
    "tensorboard = TensorBoard(log_dir = './logs')\n",
    "checkpoint = ModelCheckpoint('./checkpoints/stateless_lstm.hdf5', save_best_only = True)\n",
    "\n",
    "model = Sequential()\n",
    "model.add(LSTM(4, input_shape = (None, LOOKBACK)))\n",
    "model.add(Dense(1))\n",
    "model.compile(loss = 'mean_squared_error', optimizer = 'adam')\n",
    "\n",
    "model.fit(X_train, y_train, batch_size = 1, epochs = 20, \\\n",
    "          callbacks = [checkpoint, tensorboard], validation_data = (X_test, y_test))"
   ]
  },
  {
   "cell_type": "code",
   "execution_count": 53,
   "metadata": {
    "collapsed": true
   },
   "outputs": [],
   "source": [
    "y_pred = model.predict(X_test)\n",
    "\n",
    "_, predicted = transform(y_pred, data['pm2_5'], scaler)\n",
    "\n",
    "predicted.index = data['pm2_5'][-TESTDAYS:].index"
   ]
  },
  {
   "cell_type": "code",
   "execution_count": 54,
   "metadata": {
    "scrolled": true
   },
   "outputs": [
    {
     "data": {
      "text/plain": [
       "129.23990046799301"
      ]
     },
     "execution_count": 54,
     "metadata": {},
     "output_type": "execute_result"
    }
   ],
   "source": [
    "from sklearn.metrics import mean_squared_error\n",
    "\n",
    "rmse = np.sqrt(mean_squared_error(data['pm2_5'][-TESTDAYS:].values, predicted))\n",
    "rmse"
   ]
  },
  {
   "cell_type": "code",
   "execution_count": 55,
   "metadata": {
    "scrolled": false
   },
   "outputs": [
    {
     "data": {
      "text/plain": [
       "<matplotlib.legend.Legend at 0x241563b7cf8>"
      ]
     },
     "execution_count": 55,
     "metadata": {},
     "output_type": "execute_result"
    },
    {
     "data": {
      "image/png": "[encoded data removed]",
      "text/plain": [
       "<matplotlib.figure.Figure at 0x2414becdfd0>"
      ]
     },
     "metadata": {},
     "output_type": "display_data"
    }
   ],
   "source": [
    "plt.figure(figsize = (12, 8))\n",
    "plt.title('Actual vs Predicted result for last 14 days with RMSE of {:.3f} PM2.5 Measurement'.format(rmse))\n",
    "predicted.plot(label = 'Predicted')\n",
    "data['pm2_5'][-TESTDAYS:].plot(label = 'Actual')\n",
    "plt.legend(loc = 'best')"
   ]
  },
  {
   "cell_type": "markdown",
   "metadata": {},
   "source": [
    "### Stacked LSTM"
   ]
  },
  {
   "cell_type": "code",
   "execution_count": 56,
   "metadata": {
    "scrolled": true
   },
   "outputs": [
    {
     "name": "stdout",
     "output_type": "stream",
     "text": [
      "Train on 1803 samples, validate on 14 samples\n",
      "Epoch 1/20\n",
      "1803/1803 [==============================] - 21s - loss: 0.0428 - val_loss: 0.0690\n",
      "Epoch 2/20\n",
      "1803/1803 [==============================] - 18s - loss: 0.0376 - val_loss: 0.0706\n",
      "Epoch 3/20\n",
      "1803/1803 [==============================] - 17s - loss: 0.0363 - val_loss: 0.0613\n",
      "Epoch 4/20\n",
      "1803/1803 [==============================] - 13s - loss: 0.0357 - val_loss: 0.0671\n",
      "Epoch 5/20\n",
      "1803/1803 [==============================] - 11s - loss: 0.0353 - val_loss: 0.0825\n",
      "Epoch 6/20\n",
      "1803/1803 [==============================] - 11s - loss: 0.0354 - val_loss: 0.0604\n",
      "Epoch 7/20\n",
      "1803/1803 [==============================] - 10s - loss: 0.0354 - val_loss: 0.0626\n",
      "Epoch 8/20\n",
      "1803/1803 [==============================] - 7s - loss: 0.0346 - val_loss: 0.0616\n",
      "Epoch 9/20\n",
      "1803/1803 [==============================] - 7s - loss: 0.0349 - val_loss: 0.0815\n",
      "Epoch 10/20\n",
      "1803/1803 [==============================] - 7s - loss: 0.0351 - val_loss: 0.0654\n",
      "Epoch 11/20\n",
      "1803/1803 [==============================] - 8s - loss: 0.0349 - val_loss: 0.0756\n",
      "Epoch 12/20\n",
      "1803/1803 [==============================] - 8s - loss: 0.0350 - val_loss: 0.0635\n",
      "Epoch 13/20\n",
      "1803/1803 [==============================] - 8s - loss: 0.0349 - val_loss: 0.0620\n",
      "Epoch 14/20\n",
      "1803/1803 [==============================] - 8s - loss: 0.0349 - val_loss: 0.0638\n",
      "Epoch 15/20\n",
      "1803/1803 [==============================] - 8s - loss: 0.0346 - val_loss: 0.0605\n",
      "Epoch 16/20\n",
      "1803/1803 [==============================] - 8s - loss: 0.0345 - val_loss: 0.0613\n",
      "Epoch 17/20\n",
      "1803/1803 [==============================] - 8s - loss: 0.0347 - val_loss: 0.0671\n",
      "Epoch 18/20\n",
      "1803/1803 [==============================] - 8s - loss: 0.0345 - val_loss: 0.0712\n",
      "Epoch 19/20\n",
      "1803/1803 [==============================] - 8s - loss: 0.0343 - val_loss: 0.0605\n",
      "Epoch 20/20\n",
      "1803/1803 [==============================] - 8s - loss: 0.0344 - val_loss: 0.0622\n"
     ]
    },
    {
     "data": {
      "text/plain": [
       "<keras.callbacks.History at 0x2414d6d3400>"
      ]
     },
     "execution_count": 56,
     "metadata": {},
     "output_type": "execute_result"
    }
   ],
   "source": [
    "tensorboard = TensorBoard(log_dir = './logs')\n",
    "checkpoint = ModelCheckpoint('./checkpoints/stateless_2_layers_lstm.hdf5', save_best_only = True)\n",
    "\n",
    "model = Sequential()\n",
    "model.add(LSTM(32, input_shape = (None, LOOKBACK), return_sequences = True))\n",
    "model.add(LSTM(32))\n",
    "model.add(Dense(1))\n",
    "model.compile(loss = 'mean_squared_error', optimizer = 'adam')\n",
    "\n",
    "model.fit(X_train, y_train, batch_size = 1, epochs = 20, \\\n",
    "          callbacks = [checkpoint, tensorboard], validation_data = (X_test, y_test))"
   ]
  },
  {
   "cell_type": "code",
   "execution_count": 57,
   "metadata": {
    "collapsed": true
   },
   "outputs": [],
   "source": [
    "y_pred = model.predict(X_test)\n",
    "\n",
    "_, predicted = transform(y_pred, data['pm2_5'], scaler)\n",
    "\n",
    "predicted.index = data['pm2_5'][-TESTDAYS:].index"
   ]
  },
  {
   "cell_type": "code",
   "execution_count": 58,
   "metadata": {},
   "outputs": [
    {
     "data": {
      "text/plain": [
       "125.40023879322925"
      ]
     },
     "execution_count": 58,
     "metadata": {},
     "output_type": "execute_result"
    }
   ],
   "source": [
    "rmse = np.sqrt(mean_squared_error(data['pm2_5'][-TESTDAYS:].values, predicted))\n",
    "rmse"
   ]
  },
  {
   "cell_type": "code",
   "execution_count": 59,
   "metadata": {},
   "outputs": [
    {
     "data": {
      "text/plain": [
       "<matplotlib.legend.Legend at 0x241597fdda0>"
      ]
     },
     "execution_count": 59,
     "metadata": {},
     "output_type": "execute_result"
    },
    {
     "data": {
      "image/png": "[encoded data removed]",
      "text/plain": [
       "<matplotlib.figure.Figure at 0x2415b2def28>"
      ]
     },
     "metadata": {},
     "output_type": "display_data"
    }
   ],
   "source": [
    "plt.figure(figsize = (12, 8))\n",
    "plt.title('Actual vs Predicted result for last 14 days with RMSE of {:.3f} PM2.5 Measurement'.format(rmse))\n",
    "predicted.plot(label = 'Predicted')\n",
    "data['pm2_5'][-TESTDAYS:].plot(label = 'Actual')\n",
    "plt.legend(loc = 'best')"
   ]
  },
  {
   "cell_type": "code",
   "execution_count": null,
   "metadata": {
    "collapsed": true
   },
   "outputs": [],
   "source": []
  }
 ],
 "metadata": {
  "hide_input": false,
  "kernelspec": {
   "display_name": "Python 3",
   "language": "python",
   "name": "python3"
  },
  "language_info": {
   "codemirror_mode": {
    "name": "ipython",
    "version": 3
   },
   "file_extension": ".py",
   "mimetype": "text/x-python",
   "name": "python",
   "nbconvert_exporter": "python",
   "pygments_lexer": "ipython3",
   "version": "3.6.1"
  }
 },
 "nbformat": 4,
 "nbformat_minor": 2
}
