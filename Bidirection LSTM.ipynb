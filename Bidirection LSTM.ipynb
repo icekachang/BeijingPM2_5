{
 "cells": [
  {
   "cell_type": "code",
   "execution_count": 1,
   "metadata": {
    "collapsed": true
   },
   "outputs": [],
   "source": [
    "import numpy as np\n",
    "import pandas as pd\n",
    "import matplotlib.pyplot as plt\n",
    "import seaborn as sns\n",
    "\n",
    "%matplotlib inline\n",
    "plt.style.use('seaborn-bright')"
   ]
  },
  {
   "cell_type": "markdown",
   "metadata": {},
   "source": [
    "### Loading CSV\n",
    "\n",
    "Load CSV and set index to datetime"
   ]
  },
  {
   "cell_type": "code",
   "execution_count": 2,
   "metadata": {
    "collapsed": true
   },
   "outputs": [],
   "source": [
    "from datetime import datetime\n",
    "\n",
    "# Only selecting only relevant columns year (1), month (2), day (3), hour (4), pm2.5 (5), dewp (6), temp (7), pres (8), lws (10)\n",
    "selected_column = ['year', 'month', 'day', 'hour', 'pm2.5', 'DEWP', 'TEMP', 'PRES', 'Iws']\n",
    "\n",
    "data = pd.read_csv('Haze.csv', parse_dates = [['year', 'month', 'day', 'hour']],\\\n",
    "                   date_parser = lambda x : datetime.strptime(x, '%Y %m %d %H'),\\\n",
    "                   usecols = selected_column)\n",
    "\n",
    "# Rename columns\n",
    "renamed_column = ['time', 'pm2_5', 'dewPoint', 'temp', 'pressure', 'wind_speed']\n",
    "data.columns = renamed_column\n",
    "\n",
    "# Set index as time\n",
    "data.set_index('time', drop = True, inplace = True)\n",
    "\n",
    "# Drop null value (first day)\n",
    "data.dropna(axis = 0, inplace = True)\n",
    "\n",
    "# Resampling to daily basis\n",
    "data = data.resample('D').interpolate('time')"
   ]
  },
  {
   "cell_type": "code",
   "execution_count": 3,
   "metadata": {
    "collapsed": true
   },
   "outputs": [],
   "source": [
    "# Differencing 1 days to remove stationarity and to take the difference in reading\n",
    "DIFF = 1\n",
    "ydata = data.diff(periods = DIFF).dropna()"
   ]
  },
  {
   "cell_type": "code",
   "execution_count": 4,
   "metadata": {
    "collapsed": true
   },
   "outputs": [],
   "source": [
    "def create_data(timeseries):\n",
    "    '''\n",
    "    create_data : \n",
    "    \n",
    "    Args:\n",
    "        timeseries (numpy array) : \n",
    "    Return:\n",
    "        x (numpy array) :\n",
    "        y (numpy array) :\n",
    "    ''' \n",
    "    # Squeeze timeseries to 1d array and turn timeseries from numpy array to Series\n",
    "    timeseries = pd.Series(np.squeeze(timeseries))\n",
    "    #timeseries = pd.Series(timeseries)\n",
    "    # Create lookback as the target variable, y\n",
    "    y = timeseries[LOOKBACK:]\n",
    "    \n",
    "    # With each iteration of lag, create its column\n",
    "    X = pd.DataFrame({'lag'+str(LOOKBACK-i):timeseries.shift(-i) for i in range(0, LOOKBACK)}).dropna().iloc[:-1, :]\n",
    "    \n",
    "    return X, y"
   ]
  },
  {
   "cell_type": "markdown",
   "metadata": {},
   "source": [
    "### LSTM Conditions : 7 lookback windows and 14 days in the testing set"
   ]
  },
  {
   "cell_type": "code",
   "execution_count": 5,
   "metadata": {
    "collapsed": true
   },
   "outputs": [],
   "source": [
    "TESTDAYS = 14\n",
    "LOOKBACK = 7"
   ]
  },
  {
   "cell_type": "code",
   "execution_count": 6,
   "metadata": {
    "collapsed": true
   },
   "outputs": [],
   "source": [
    "from sklearn.preprocessing import MinMaxScaler\n",
    "\n",
    "# Scale the features to range between -1 and 1\n",
    "scaler = MinMaxScaler(feature_range = (-1, 1))\n",
    "scaled = scaler.fit_transform(ydata['pm2_5'].values.reshape(-1, 1))\n",
    "\n",
    "# Create data with 7 days lookback\n",
    "X, y = create_data(scaled)\n",
    "\n",
    "# Create a train and test set (30 days)\n",
    "X_train, X_test = X[ : -TESTDAYS], X[-TESTDAYS : ]\n",
    "y_train, y_test = y[ : -TESTDAYS], y[-TESTDAYS : ]\n",
    "\n",
    "# Expand X_train, X_test dimension such that it can become batch_size, timestep (added dimension here), lookback window\n",
    "X_train = np.expand_dims(X_train, axis = 1)\n",
    "X_test = np.expand_dims(X_test, axis = 1)"
   ]
  },
  {
   "cell_type": "code",
   "execution_count": 7,
   "metadata": {
    "collapsed": true
   },
   "outputs": [],
   "source": [
    "def transform(scaled, org_arr, scaler, test = True):\n",
    "    '''\n",
    "    transform: taking the scaled array, apply inverse tranform and un-differencing it\n",
    "    \n",
    "    Args:\n",
    "        scaled (numpy array) : predicted values\n",
    "        org_arr (Series) : original series\n",
    "        scaler (object)\n",
    "\n",
    "    Return:\n",
    "        result (Series) : overall series\n",
    "        added (Series) : only transformed series\n",
    "    '''\n",
    "\n",
    "    #scaled = scaled[:, 0]\n",
    "    scaled = scaler.inverse_transform(scaled)\n",
    "    \n",
    "    # Remove its dimension such that it is (n, ) and turn it into a Series\n",
    "    scaled = pd.Series(scaled.squeeze())\n",
    "    \n",
    "    if test == True:\n",
    "        # Adding the differenced array with the unscaled array, this resulting series will contain values from 1 to n\n",
    "        added = pd.Series(org_arr[-(DIFF + TESTDAYS) : -DIFF].values + scaled)\n",
    "        \n",
    "        # Adding the first value of the original array to a new Series\n",
    "        result = org_arr[: -(TESTDAYS)].append(added)\n",
    "    else:\n",
    "        # Adding the differenced array with the unscaled array, this resulting series will contain values from 1 to n\n",
    "        added = pd.Series(org_arr[LOOKBACK : -(DIFF + TESTDAYS)].values + scaled)\n",
    "        \n",
    "        # Adding the first value of the original array to a new Series\n",
    "        result = org_arr[: (DIFF + LOOKBACK)].append(added)\n",
    "\n",
    "    # Reset index of result\n",
    "    result.reset_index(drop = True, inplace = True)\n",
    "    \n",
    "    return result, added"
   ]
  },
  {
   "cell_type": "markdown",
   "metadata": {},
   "source": [
    "### Using a Bidirection LSTM model"
   ]
  },
  {
   "cell_type": "code",
   "execution_count": 8,
   "metadata": {},
   "outputs": [
    {
     "name": "stderr",
     "output_type": "stream",
     "text": [
      "Using TensorFlow backend.\n"
     ]
    }
   ],
   "source": [
    "from keras.models import Sequential\n",
    "from keras.layers import Dense, LSTM, Bidirectional, TimeDistributed\n",
    "from keras.callbacks import  TensorBoard, ModelCheckpoint"
   ]
  },
  {
   "cell_type": "code",
   "execution_count": 9,
   "metadata": {
    "collapsed": true
   },
   "outputs": [],
   "source": [
    "tensorboard = TensorBoard(log_dir = './logs')\n",
    "checkpoint = ModelCheckpoint('./checkpoints/bidirection_lstm.hdf5', save_best_only = True)"
   ]
  },
  {
   "cell_type": "code",
   "execution_count": 10,
   "metadata": {},
   "outputs": [
    {
     "name": "stdout",
     "output_type": "stream",
     "text": [
      "_________________________________________________________________\n",
      "Layer (type)                 Output Shape              Param #   \n",
      "=================================================================\n",
      "bidirectional_1 (Bidirection (None, 1, 16)             3072      \n",
      "_________________________________________________________________\n",
      "bidirectional_2 (Bidirection (None, 32)                4224      \n",
      "_________________________________________________________________\n",
      "dense_1 (Dense)              (None, 1)                 33        \n",
      "=================================================================\n",
      "Total params: 7,329\n",
      "Trainable params: 7,329\n",
      "Non-trainable params: 0\n",
      "_________________________________________________________________\n"
     ]
    }
   ],
   "source": [
    "model = Sequential()\n",
    "model.add(Bidirectional(LSTM(16, return_sequences = True), input_shape = (1, LOOKBACK), merge_mode= 'ave'))\n",
    "model.add(Bidirectional(LSTM(16)))\n",
    "model.add((Dense(1)))\n",
    "model.compile(loss = 'mean_squared_error', optimizer = 'adam')\n",
    "model.summary()"
   ]
  },
  {
   "cell_type": "code",
   "execution_count": 11,
   "metadata": {
    "scrolled": true
   },
   "outputs": [
    {
     "name": "stdout",
     "output_type": "stream",
     "text": [
      "Train on 1803 samples, validate on 14 samples\n",
      "Epoch 1/20\n",
      "1803/1803 [==============================] - 15s - loss: 0.0437 - val_loss: 0.0741\n",
      "Epoch 2/20\n",
      "1803/1803 [==============================] - 11s - loss: 0.0378 - val_loss: 0.0655\n",
      "Epoch 3/20\n",
      "1803/1803 [==============================] - 12s - loss: 0.0364 - val_loss: 0.0688\n",
      "Epoch 4/20\n",
      "1803/1803 [==============================] - 12s - loss: 0.0355 - val_loss: 0.0727\n",
      "Epoch 5/20\n",
      "1803/1803 [==============================] - 11s - loss: 0.0354 - val_loss: 0.0647\n",
      "Epoch 6/20\n",
      "1803/1803 [==============================] - 13s - loss: 0.0351 - val_loss: 0.0656\n",
      "Epoch 7/20\n",
      "1803/1803 [==============================] - 13s - loss: 0.0352 - val_loss: 0.0676\n",
      "Epoch 8/20\n",
      "1803/1803 [==============================] - 13s - loss: 0.0349 - val_loss: 0.0610\n",
      "Epoch 9/20\n",
      "1803/1803 [==============================] - 13s - loss: 0.0345 - val_loss: 0.0609\n",
      "Epoch 10/20\n",
      "1803/1803 [==============================] - 16s - loss: 0.0348 - val_loss: 0.0651\n",
      "Epoch 11/20\n",
      "1803/1803 [==============================] - 15s - loss: 0.0347 - val_loss: 0.0615\n",
      "Epoch 12/20\n",
      "1803/1803 [==============================] - 15s - loss: 0.0343 - val_loss: 0.0673\n",
      "Epoch 13/20\n",
      "1803/1803 [==============================] - 16s - loss: 0.0346 - val_loss: 0.0704\n",
      "Epoch 14/20\n",
      "1803/1803 [==============================] - 13s - loss: 0.0346 - val_loss: 0.0605\n",
      "Epoch 15/20\n",
      "1803/1803 [==============================] - 13s - loss: 0.0345 - val_loss: 0.0649\n",
      "Epoch 16/20\n",
      "1803/1803 [==============================] - 13s - loss: 0.0344 - val_loss: 0.0612\n",
      "Epoch 17/20\n",
      "1803/1803 [==============================] - 14s - loss: 0.0342 - val_loss: 0.0691\n",
      "Epoch 18/20\n",
      "1803/1803 [==============================] - 17s - loss: 0.0344 - val_loss: 0.0671\n",
      "Epoch 19/20\n",
      "1803/1803 [==============================] - 16s - loss: 0.0346 - val_loss: 0.0639\n",
      "Epoch 20/20\n",
      "1803/1803 [==============================] - 14s - loss: 0.0342 - val_loss: 0.0567\n"
     ]
    },
    {
     "data": {
      "text/plain": [
       "<keras.callbacks.History at 0x249766baba8>"
      ]
     },
     "execution_count": 11,
     "metadata": {},
     "output_type": "execute_result"
    }
   ],
   "source": [
    "model.fit(X_train, y_train, batch_size = 1, epochs = 20, \\\n",
    "          callbacks = [checkpoint, tensorboard], validation_data = (X_test, y_test))"
   ]
  },
  {
   "cell_type": "code",
   "execution_count": 12,
   "metadata": {
    "collapsed": true
   },
   "outputs": [],
   "source": [
    "y_pred = model.predict(X_test)"
   ]
  },
  {
   "cell_type": "code",
   "execution_count": 13,
   "metadata": {},
   "outputs": [
    {
     "data": {
      "text/plain": [
       "time\n",
       "2014-12-18     56.976887\n",
       "2014-12-19    151.284893\n",
       "2014-12-20    184.744453\n",
       "2014-12-21     54.368378\n",
       "2014-12-22     56.061470\n",
       "2014-12-23     94.584183\n",
       "2014-12-24    138.076070\n",
       "2014-12-25     47.258583\n",
       "2014-12-26     66.971485\n",
       "2014-12-27    115.968491\n",
       "2014-12-28    142.868317\n",
       "2014-12-29    241.349319\n",
       "2014-12-30    238.433678\n",
       "2014-12-31    210.084446\n",
       "Freq: D, dtype: float64"
      ]
     },
     "execution_count": 13,
     "metadata": {},
     "output_type": "execute_result"
    }
   ],
   "source": [
    "_, predicted = transform(y_pred, data['pm2_5'], scaler)\n",
    "\n",
    "predicted.index = data['pm2_5'][-TESTDAYS:].index\n",
    "\n",
    "predicted"
   ]
  },
  {
   "cell_type": "code",
   "execution_count": 14,
   "metadata": {},
   "outputs": [
    {
     "data": {
      "text/plain": [
       "119.76545994846884"
      ]
     },
     "execution_count": 14,
     "metadata": {},
     "output_type": "execute_result"
    }
   ],
   "source": [
    "from sklearn.metrics import mean_squared_error\n",
    "\n",
    "rmse = np.sqrt(mean_squared_error(data['pm2_5'][-TESTDAYS:].values, predicted))\n",
    "rmse"
   ]
  },
  {
   "cell_type": "code",
   "execution_count": 15,
   "metadata": {
    "scrolled": false
   },
   "outputs": [
    {
     "data": {
      "text/plain": [
       "<matplotlib.legend.Legend at 0x2497e6b9c88>"
      ]
     },
     "execution_count": 15,
     "metadata": {},
     "output_type": "execute_result"
    },
    {
     "data": {
      "image/png": "[encoded data removed]",
      "text/plain": [
       "<matplotlib.figure.Figure at 0x2497e6b9438>"
      ]
     },
     "metadata": {},
     "output_type": "display_data"
    }
   ],
   "source": [
    "plt.figure(figsize = (12, 8))\n",
    "plt.title('Actual vs Predicted result for last 14 days with RMSE of {:.3f} PM2.5 Measurement'.format(rmse))\n",
    "predicted.plot(label = 'Predicted')\n",
    "data['pm2_5'][-TESTDAYS:].plot(label = 'Actual')\n",
    "plt.legend(loc = 'best')"
   ]
  },
  {
   "cell_type": "code",
   "execution_count": null,
   "metadata": {
    "collapsed": true
   },
   "outputs": [],
   "source": []
  }
 ],
 "metadata": {
  "hide_input": false,
  "kernelspec": {
   "display_name": "Python 3",
   "language": "python",
   "name": "python3"
  },
  "language_info": {
   "codemirror_mode": {
    "name": "ipython",
    "version": 3
   },
   "file_extension": ".py",
   "mimetype": "text/x-python",
   "name": "python",
   "nbconvert_exporter": "python",
   "pygments_lexer": "ipython3",
   "version": "3.6.1"
  }
 },
 "nbformat": 4,
 "nbformat_minor": 2
}
