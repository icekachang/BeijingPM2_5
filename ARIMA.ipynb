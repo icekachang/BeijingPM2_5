{
 "cells": [
  {
   "cell_type": "markdown",
   "metadata": {},
   "source": [
    "### ARIMA"
   ]
  },
  {
   "cell_type": "code",
   "execution_count": 1,
   "metadata": {
    "collapsed": true
   },
   "outputs": [],
   "source": [
    "import numpy as np\n",
    "import pandas as pd\n",
    "import matplotlib.pyplot as plt\n",
    "import seaborn as sns\n",
    "import statsmodels\n",
    "\n",
    "%matplotlib inline\n",
    "plt.style.use('seaborn-bright')"
   ]
  },
  {
   "cell_type": "markdown",
   "metadata": {},
   "source": [
    "### Loading CSV\n",
    "\n",
    "Load CSV and set index to datetime"
   ]
  },
  {
   "cell_type": "code",
   "execution_count": 2,
   "metadata": {
    "collapsed": true
   },
   "outputs": [],
   "source": [
    "from datetime import datetime\n",
    "\n",
    "# Only selecting only relevant columns year (1), month (2), day (3), hour (4), pm2.5 (5), dewp (6), temp (7), pres (8), lws (10)\n",
    "selected_column = ['year', 'month', 'day', 'hour', 'pm2.5', 'DEWP', 'TEMP', 'PRES', 'Iws']\n",
    "\n",
    "data = pd.read_csv('Haze.csv', parse_dates = [['year', 'month', 'day', 'hour']],\\\n",
    "                   date_parser = lambda x : datetime.strptime(x, '%Y %m %d %H'),\\\n",
    "                   usecols = selected_column)\n",
    "\n",
    "# Rename columns\n",
    "renamed_column = ['time', 'pm2_5', 'dewPoint', 'temp', 'pressure', 'wind_speed']\n",
    "data.columns = renamed_column\n",
    "\n",
    "# Set index as time\n",
    "data.set_index('time', drop = True, inplace = True)"
   ]
  },
  {
   "cell_type": "markdown",
   "metadata": {},
   "source": [
    "### Drop rows without pm2_5 values since it is the predictor value\n",
    "\n",
    "It seems like the first day of 2010 has no value, but it is ok to drop it, since there is still many many more data points"
   ]
  },
  {
   "cell_type": "code",
   "execution_count": 3,
   "metadata": {},
   "outputs": [
    {
     "data": {
      "text/html": [
       "<div>\n",
       "<style>\n",
       "    .dataframe thead tr:only-child th {\n",
       "        text-align: right;\n",
       "    }\n",
       "\n",
       "    .dataframe thead th {\n",
       "        text-align: left;\n",
       "    }\n",
       "\n",
       "    .dataframe tbody tr th {\n",
       "        vertical-align: top;\n",
       "    }\n",
       "</style>\n",
       "<table border=\"1\" class=\"dataframe\">\n",
       "  <thead>\n",
       "    <tr style=\"text-align: right;\">\n",
       "      <th></th>\n",
       "      <th>pm2_5</th>\n",
       "      <th>dewPoint</th>\n",
       "      <th>temp</th>\n",
       "      <th>pressure</th>\n",
       "      <th>wind_speed</th>\n",
       "    </tr>\n",
       "  </thead>\n",
       "  <tbody>\n",
       "    <tr>\n",
       "      <th>count</th>\n",
       "      <td>41757.000000</td>\n",
       "      <td>41757.000000</td>\n",
       "      <td>41757.000000</td>\n",
       "      <td>41757.000000</td>\n",
       "      <td>41757.000000</td>\n",
       "    </tr>\n",
       "    <tr>\n",
       "      <th>mean</th>\n",
       "      <td>98.613215</td>\n",
       "      <td>1.750174</td>\n",
       "      <td>12.401561</td>\n",
       "      <td>1016.442896</td>\n",
       "      <td>23.866747</td>\n",
       "    </tr>\n",
       "    <tr>\n",
       "      <th>std</th>\n",
       "      <td>92.050387</td>\n",
       "      <td>14.433658</td>\n",
       "      <td>12.175215</td>\n",
       "      <td>10.300733</td>\n",
       "      <td>49.617495</td>\n",
       "    </tr>\n",
       "    <tr>\n",
       "      <th>min</th>\n",
       "      <td>0.000000</td>\n",
       "      <td>-40.000000</td>\n",
       "      <td>-19.000000</td>\n",
       "      <td>991.000000</td>\n",
       "      <td>0.450000</td>\n",
       "    </tr>\n",
       "    <tr>\n",
       "      <th>25%</th>\n",
       "      <td>29.000000</td>\n",
       "      <td>-10.000000</td>\n",
       "      <td>2.000000</td>\n",
       "      <td>1008.000000</td>\n",
       "      <td>1.790000</td>\n",
       "    </tr>\n",
       "    <tr>\n",
       "      <th>50%</th>\n",
       "      <td>72.000000</td>\n",
       "      <td>2.000000</td>\n",
       "      <td>14.000000</td>\n",
       "      <td>1016.000000</td>\n",
       "      <td>5.370000</td>\n",
       "    </tr>\n",
       "    <tr>\n",
       "      <th>75%</th>\n",
       "      <td>137.000000</td>\n",
       "      <td>15.000000</td>\n",
       "      <td>23.000000</td>\n",
       "      <td>1025.000000</td>\n",
       "      <td>21.910000</td>\n",
       "    </tr>\n",
       "    <tr>\n",
       "      <th>max</th>\n",
       "      <td>994.000000</td>\n",
       "      <td>28.000000</td>\n",
       "      <td>42.000000</td>\n",
       "      <td>1046.000000</td>\n",
       "      <td>565.490000</td>\n",
       "    </tr>\n",
       "  </tbody>\n",
       "</table>\n",
       "</div>"
      ],
      "text/plain": [
       "              pm2_5      dewPoint          temp      pressure    wind_speed\n",
       "count  41757.000000  41757.000000  41757.000000  41757.000000  41757.000000\n",
       "mean      98.613215      1.750174     12.401561   1016.442896     23.866747\n",
       "std       92.050387     14.433658     12.175215     10.300733     49.617495\n",
       "min        0.000000    -40.000000    -19.000000    991.000000      0.450000\n",
       "25%       29.000000    -10.000000      2.000000   1008.000000      1.790000\n",
       "50%       72.000000      2.000000     14.000000   1016.000000      5.370000\n",
       "75%      137.000000     15.000000     23.000000   1025.000000     21.910000\n",
       "max      994.000000     28.000000     42.000000   1046.000000    565.490000"
      ]
     },
     "execution_count": 3,
     "metadata": {},
     "output_type": "execute_result"
    }
   ],
   "source": [
    "data.dropna(axis = 0, inplace = True)\n",
    "\n",
    "data.describe()"
   ]
  },
  {
   "cell_type": "code",
   "execution_count": 4,
   "metadata": {},
   "outputs": [
    {
     "data": {
      "text/plain": [
       "0"
      ]
     },
     "execution_count": 4,
     "metadata": {},
     "output_type": "execute_result"
    }
   ],
   "source": [
    "data['pm2_5'].isnull().sum()"
   ]
  },
  {
   "cell_type": "markdown",
   "metadata": {},
   "source": [
    "### Resampling\n",
    "\n",
    "There are some days that don't have pm2.5 reading, in such case, we will interpolate these data from the previous reading.\n",
    "\n",
    "** We are downsampling the data to day resolution **"
   ]
  },
  {
   "cell_type": "code",
   "execution_count": 5,
   "metadata": {
    "collapsed": true,
    "scrolled": true
   },
   "outputs": [],
   "source": [
    "data = data.resample('D').interpolate('time')"
   ]
  },
  {
   "cell_type": "markdown",
   "metadata": {},
   "source": [
    "### From EDA, we will take a difference of 365 days"
   ]
  },
  {
   "cell_type": "code",
   "execution_count": 6,
   "metadata": {
    "collapsed": true
   },
   "outputs": [],
   "source": [
    "ndata = data.diff(periods = 365).dropna()"
   ]
  },
  {
   "cell_type": "code",
   "execution_count": 7,
   "metadata": {},
   "outputs": [
    {
     "data": {
      "text/plain": [
       "<matplotlib.axes._subplots.AxesSubplot at 0x23120bf7ba8>"
      ]
     },
     "execution_count": 7,
     "metadata": {},
     "output_type": "execute_result"
    },
    {
     "data": {
      "image/png": "[encoded data removed]",
      "text/plain": [
       "<matplotlib.figure.Figure at 0x23120bf7240>"
      ]
     },
     "metadata": {},
     "output_type": "display_data"
    }
   ],
   "source": [
    "plt.title('Distribution of PM2.5 Measurement that had been season differenced')\n",
    "sns.distplot(ndata['pm2_5'], color = 'salmon')"
   ]
  },
  {
   "cell_type": "markdown",
   "metadata": {},
   "source": [
    "### Set aside 14 days to predict"
   ]
  },
  {
   "cell_type": "code",
   "execution_count": 8,
   "metadata": {},
   "outputs": [
    {
     "data": {
      "text/plain": [
       "((1446, 5), (14, 5))"
      ]
     },
     "execution_count": 8,
     "metadata": {},
     "output_type": "execute_result"
    }
   ],
   "source": [
    "TESTDAYS = 14\n",
    "train, test = ndata[:-TESTDAYS], ndata[-TESTDAYS:]\n",
    "\n",
    "train.shape, test.shape"
   ]
  },
  {
   "cell_type": "code",
   "execution_count": 9,
   "metadata": {},
   "outputs": [
    {
     "data": {
      "text/html": [
       "<div>\n",
       "<style>\n",
       "    .dataframe thead tr:only-child th {\n",
       "        text-align: right;\n",
       "    }\n",
       "\n",
       "    .dataframe thead th {\n",
       "        text-align: left;\n",
       "    }\n",
       "\n",
       "    .dataframe tbody tr th {\n",
       "        vertical-align: top;\n",
       "    }\n",
       "</style>\n",
       "<table border=\"1\" class=\"dataframe\">\n",
       "  <thead>\n",
       "    <tr style=\"text-align: right;\">\n",
       "      <th></th>\n",
       "      <th>pm2_5</th>\n",
       "      <th>dewPoint</th>\n",
       "      <th>temp</th>\n",
       "      <th>pressure</th>\n",
       "      <th>wind_speed</th>\n",
       "    </tr>\n",
       "    <tr>\n",
       "      <th>time</th>\n",
       "      <th></th>\n",
       "      <th></th>\n",
       "      <th></th>\n",
       "      <th></th>\n",
       "      <th></th>\n",
       "    </tr>\n",
       "  </thead>\n",
       "  <tbody>\n",
       "    <tr>\n",
       "      <th>2011-01-02</th>\n",
       "      <td>-93.0</td>\n",
       "      <td>-1.0</td>\n",
       "      <td>-3.0</td>\n",
       "      <td>17.0</td>\n",
       "      <td>73.31</td>\n",
       "    </tr>\n",
       "    <tr>\n",
       "      <th>2011-01-03</th>\n",
       "      <td>-25.0</td>\n",
       "      <td>-8.0</td>\n",
       "      <td>-1.0</td>\n",
       "      <td>6.0</td>\n",
       "      <td>-57.67</td>\n",
       "    </tr>\n",
       "    <tr>\n",
       "      <th>2011-01-04</th>\n",
       "      <td>154.0</td>\n",
       "      <td>-1.0</td>\n",
       "      <td>2.0</td>\n",
       "      <td>6.0</td>\n",
       "      <td>-13.41</td>\n",
       "    </tr>\n",
       "    <tr>\n",
       "      <th>2011-01-05</th>\n",
       "      <td>-2.0</td>\n",
       "      <td>7.0</td>\n",
       "      <td>12.0</td>\n",
       "      <td>-6.0</td>\n",
       "      <td>-126.03</td>\n",
       "    </tr>\n",
       "    <tr>\n",
       "      <th>2011-01-06</th>\n",
       "      <td>-43.0</td>\n",
       "      <td>6.0</td>\n",
       "      <td>11.0</td>\n",
       "      <td>4.0</td>\n",
       "      <td>256.12</td>\n",
       "    </tr>\n",
       "  </tbody>\n",
       "</table>\n",
       "</div>"
      ],
      "text/plain": [
       "            pm2_5  dewPoint  temp  pressure  wind_speed\n",
       "time                                                   \n",
       "2011-01-02  -93.0      -1.0  -3.0      17.0       73.31\n",
       "2011-01-03  -25.0      -8.0  -1.0       6.0      -57.67\n",
       "2011-01-04  154.0      -1.0   2.0       6.0      -13.41\n",
       "2011-01-05   -2.0       7.0  12.0      -6.0     -126.03\n",
       "2011-01-06  -43.0       6.0  11.0       4.0      256.12"
      ]
     },
     "execution_count": 9,
     "metadata": {},
     "output_type": "execute_result"
    }
   ],
   "source": [
    "train.head()"
   ]
  },
  {
   "cell_type": "markdown",
   "metadata": {},
   "source": [
    "#### Looping through values of p, d, q\n",
    "\n",
    "Get different combinations of p, d and q from 0 to 3 fit into ARIMA and get the combinations with the lowest AIC score"
   ]
  },
  {
   "cell_type": "code",
   "execution_count": 10,
   "metadata": {
    "scrolled": true
   },
   "outputs": [
    {
     "name": "stderr",
     "output_type": "stream",
     "text": [
      "C:\\Users\\Lee Jiahe Steven\\Anaconda3\\lib\\site-packages\\statsmodels\\compat\\pandas.py:56: FutureWarning: The pandas.core.datetools module is deprecated and will be removed in a future version. Please use the pandas.tseries module instead.\n",
      "  from pandas.core import datetools\n"
     ]
    },
    {
     "name": "stdout",
     "output_type": "stream",
     "text": [
      "ARIMA(0, 0, 0) - AIC:18417.31835713813\n",
      "ARIMA(0, 0, 1) - AIC:18216.651119098962\n",
      "ARIMA(0, 0, 2) - AIC:18214.87696110798\n",
      "ARIMA(0, 0, 3) - AIC:18201.88657531614\n",
      "ARIMA(0, 1, 0) - AIC:18746.969115170617\n",
      "ARIMA(0, 1, 1) - AIC:18414.766147726812\n",
      "ARIMA(0, 1, 2) - AIC:18213.652275011416\n",
      "ARIMA(0, 1, 3) - AIC:18211.800253112844\n",
      "ARIMA(0, 2, 0) - AIC:20106.666828569654\n",
      "ARIMA(0, 2, 1) - AIC:18744.261395751277\n",
      "ARIMA(1, 0, 0) - AIC:18211.89213756629\n",
      "ARIMA(1, 0, 1) - AIC:18211.433148404703\n",
      "ARIMA(1, 0, 2) - AIC:18211.80548930402\n",
      "ARIMA(1, 1, 0) - AIC:18619.50156305014\n",
      "ARIMA(1, 1, 1) - AIC:18208.63244935714\n",
      "ARIMA(1, 1, 2) - AIC:18208.25537569105\n",
      "ARIMA(1, 1, 3) - AIC:18208.58657729774\n",
      "ARIMA(1, 2, 0) - AIC:19590.858092322072\n",
      "ARIMA(2, 0, 0) - AIC:18212.017251589692\n",
      "ARIMA(2, 0, 1) - AIC:18207.483871181408\n",
      "ARIMA(2, 0, 2) - AIC:18208.2243785324\n",
      "ARIMA(2, 0, 3) - AIC:18196.845844242\n",
      "ARIMA(2, 1, 0) - AIC:18505.396410827398\n",
      "ARIMA(2, 1, 1) - AIC:18208.8253056982\n",
      "ARIMA(2, 1, 2) - AIC:18204.291254483298\n",
      "ARIMA(2, 1, 3) - AIC:18210.384068955867\n",
      "ARIMA(2, 2, 0) - AIC:19214.297805952076\n",
      "ARIMA(3, 0, 0) - AIC:18212.4256567135\n",
      "ARIMA(3, 0, 1) - AIC:18207.123961530655\n",
      "ARIMA(3, 0, 2) - AIC:18195.14930344468\n",
      "ARIMA(3, 0, 3) - AIC:18197.6022325663\n",
      "ARIMA(3, 1, 0) - AIC:18488.6203312876\n",
      "ARIMA(3, 1, 1) - AIC:18209.170306802196\n",
      "ARIMA(3, 1, 2) - AIC:18203.85339550125\n",
      "ARIMA(3, 1, 3) - AIC:18191.878915564277\n",
      "ARIMA(3, 2, 0) - AIC:19110.308147022693\n"
     ]
    }
   ],
   "source": [
    "from statsmodels.tsa.arima_model import ARIMA\n",
    "import itertools\n",
    "import warnings\n",
    "warnings.filterwarnings(\"ignore\")\n",
    "\n",
    "p = d = q = range(0, 4)\n",
    "\n",
    "# Generate all different combinations of p, q and d triplets\n",
    "pdq = list(itertools.product(p, d, q))\n",
    "\n",
    "pdq_list = []\n",
    "aic_list = []\n",
    "\n",
    "for order in pdq:\n",
    "    try:\n",
    "        # Fit ARIMA model with p, d, q\n",
    "        model = ARIMA(train['pm2_5'], order = order)\n",
    "        results = model.fit()\n",
    "        \n",
    "        # Print results\n",
    "        print('ARIMA{} - AIC:{}'.format(order, results.aic))\n",
    "        pdq_list.append(order)\n",
    "        aic_list.append(results.aic)\n",
    "    except:\n",
    "        continue"
   ]
  },
  {
   "cell_type": "code",
   "execution_count": 11,
   "metadata": {
    "scrolled": true
   },
   "outputs": [
    {
     "data": {
      "text/html": [
       "<div>\n",
       "<style>\n",
       "    .dataframe thead tr:only-child th {\n",
       "        text-align: right;\n",
       "    }\n",
       "\n",
       "    .dataframe thead th {\n",
       "        text-align: left;\n",
       "    }\n",
       "\n",
       "    .dataframe tbody tr th {\n",
       "        vertical-align: top;\n",
       "    }\n",
       "</style>\n",
       "<table border=\"1\" class=\"dataframe\">\n",
       "  <thead>\n",
       "    <tr style=\"text-align: right;\">\n",
       "      <th></th>\n",
       "      <th>aic</th>\n",
       "      <th>order</th>\n",
       "    </tr>\n",
       "  </thead>\n",
       "  <tbody>\n",
       "    <tr>\n",
       "      <th>34</th>\n",
       "      <td>18191.878916</td>\n",
       "      <td>(3, 1, 3)</td>\n",
       "    </tr>\n",
       "    <tr>\n",
       "      <th>29</th>\n",
       "      <td>18195.149303</td>\n",
       "      <td>(3, 0, 2)</td>\n",
       "    </tr>\n",
       "    <tr>\n",
       "      <th>21</th>\n",
       "      <td>18196.845844</td>\n",
       "      <td>(2, 0, 3)</td>\n",
       "    </tr>\n",
       "    <tr>\n",
       "      <th>30</th>\n",
       "      <td>18197.602233</td>\n",
       "      <td>(3, 0, 3)</td>\n",
       "    </tr>\n",
       "    <tr>\n",
       "      <th>3</th>\n",
       "      <td>18201.886575</td>\n",
       "      <td>(0, 0, 3)</td>\n",
       "    </tr>\n",
       "  </tbody>\n",
       "</table>\n",
       "</div>"
      ],
      "text/plain": [
       "             aic      order\n",
       "34  18191.878916  (3, 1, 3)\n",
       "29  18195.149303  (3, 0, 2)\n",
       "21  18196.845844  (2, 0, 3)\n",
       "30  18197.602233  (3, 0, 3)\n",
       "3   18201.886575  (0, 0, 3)"
      ]
     },
     "execution_count": 11,
     "metadata": {},
     "output_type": "execute_result"
    }
   ],
   "source": [
    "aic_df = pd.DataFrame({'order': pdq_list , 'aic': aic_list})\n",
    "aic_df.sort_values(by = 'aic', ascending = True).head()"
   ]
  },
  {
   "cell_type": "code",
   "execution_count": 12,
   "metadata": {},
   "outputs": [
    {
     "data": {
      "text/html": [
       "<table class=\"simpletable\">\n",
       "<caption>ARIMA Model Results</caption>\n",
       "<tr>\n",
       "  <th>Dep. Variable:</th>      <td>D.pm2_5</td>     <th>  No. Observations:  </th>   <td>1445</td>   \n",
       "</tr>\n",
       "<tr>\n",
       "  <th>Model:</th>          <td>ARIMA(3, 1, 3)</td>  <th>  Log Likelihood     </th> <td>-9087.939</td>\n",
       "</tr>\n",
       "<tr>\n",
       "  <th>Method:</th>             <td>css-mle</td>     <th>  S.D. of innovations</th>  <td>130.066</td> \n",
       "</tr>\n",
       "<tr>\n",
       "  <th>Date:</th>          <td>Mon, 13 Nov 2017</td> <th>  AIC                </th> <td>18191.879</td>\n",
       "</tr>\n",
       "<tr>\n",
       "  <th>Time:</th>              <td>23:26:10</td>     <th>  BIC                </th> <td>18234.086</td>\n",
       "</tr>\n",
       "<tr>\n",
       "  <th>Sample:</th>           <td>01-03-2011</td>    <th>  HQIC               </th> <td>18207.632</td>\n",
       "</tr>\n",
       "<tr>\n",
       "  <th></th>                 <td>- 12-17-2014</td>   <th>                     </th>     <td> </td>    \n",
       "</tr>\n",
       "</table>\n",
       "<table class=\"simpletable\">\n",
       "<tr>\n",
       "        <td></td>           <th>coef</th>     <th>std err</th>      <th>z</th>      <th>P>|z|</th>  <th>[0.025</th>    <th>0.975]</th>  \n",
       "</tr>\n",
       "<tr>\n",
       "  <th>const</th>         <td>    0.0023</td> <td>    0.013</td> <td>    0.178</td> <td> 0.859</td> <td>   -0.023</td> <td>    0.028</td>\n",
       "</tr>\n",
       "<tr>\n",
       "  <th>ar.L1.D.pm2_5</th> <td>   -0.9422</td> <td>    0.111</td> <td>   -8.522</td> <td> 0.000</td> <td>   -1.159</td> <td>   -0.725</td>\n",
       "</tr>\n",
       "<tr>\n",
       "  <th>ar.L2.D.pm2_5</th> <td>   -0.2568</td> <td>    0.065</td> <td>   -3.942</td> <td> 0.000</td> <td>   -0.384</td> <td>   -0.129</td>\n",
       "</tr>\n",
       "<tr>\n",
       "  <th>ar.L3.D.pm2_5</th> <td>    0.2990</td> <td>    0.041</td> <td>    7.347</td> <td> 0.000</td> <td>    0.219</td> <td>    0.379</td>\n",
       "</tr>\n",
       "<tr>\n",
       "  <th>ma.L1.D.pm2_5</th> <td>    0.3305</td> <td>    0.113</td> <td>    2.918</td> <td> 0.004</td> <td>    0.109</td> <td>    0.552</td>\n",
       "</tr>\n",
       "<tr>\n",
       "  <th>ma.L2.D.pm2_5</th> <td>   -0.6139</td> <td>    0.089</td> <td>   -6.934</td> <td> 0.000</td> <td>   -0.787</td> <td>   -0.440</td>\n",
       "</tr>\n",
       "<tr>\n",
       "  <th>ma.L3.D.pm2_5</th> <td>   -0.7165</td> <td>    0.081</td> <td>   -8.843</td> <td> 0.000</td> <td>   -0.875</td> <td>   -0.558</td>\n",
       "</tr>\n",
       "</table>\n",
       "<table class=\"simpletable\">\n",
       "<caption>Roots</caption>\n",
       "<tr>\n",
       "    <td></td>   <th>           Real</th> <th>         Imaginary</th> <th>         Modulus</th> <th>        Frequency</th>\n",
       "</tr>\n",
       "<tr>\n",
       "  <th>AR.1</th>              -0.8613                    -0.7442j                    1.1383                   -0.3866     \n",
       "</tr>\n",
       "<tr>\n",
       "  <th>AR.2</th>              -0.8613                    +0.7442j                    1.1383                    0.3866     \n",
       "</tr>\n",
       "<tr>\n",
       "  <th>AR.3</th>               2.5817                    -0.0000j                    2.5817                   -0.0000     \n",
       "</tr>\n",
       "<tr>\n",
       "  <th>MA.1</th>               1.0000                    -0.0000j                    1.0000                   -0.0000     \n",
       "</tr>\n",
       "<tr>\n",
       "  <th>MA.2</th>              -0.9284                    -0.7305j                    1.1814                   -0.3939     \n",
       "</tr>\n",
       "<tr>\n",
       "  <th>MA.3</th>              -0.9284                    +0.7305j                    1.1814                    0.3939     \n",
       "</tr>\n",
       "</table>"
      ],
      "text/plain": [
       "<class 'statsmodels.iolib.summary.Summary'>\n",
       "\"\"\"\n",
       "                             ARIMA Model Results                              \n",
       "==============================================================================\n",
       "Dep. Variable:                D.pm2_5   No. Observations:                 1445\n",
       "Model:                 ARIMA(3, 1, 3)   Log Likelihood               -9087.939\n",
       "Method:                       css-mle   S.D. of innovations            130.066\n",
       "Date:                Mon, 13 Nov 2017   AIC                          18191.879\n",
       "Time:                        23:26:10   BIC                          18234.086\n",
       "Sample:                    01-03-2011   HQIC                         18207.632\n",
       "                         - 12-17-2014                                         \n",
       "=================================================================================\n",
       "                    coef    std err          z      P>|z|      [0.025      0.975]\n",
       "---------------------------------------------------------------------------------\n",
       "const             0.0023      0.013      0.178      0.859      -0.023       0.028\n",
       "ar.L1.D.pm2_5    -0.9422      0.111     -8.522      0.000      -1.159      -0.725\n",
       "ar.L2.D.pm2_5    -0.2568      0.065     -3.942      0.000      -0.384      -0.129\n",
       "ar.L3.D.pm2_5     0.2990      0.041      7.347      0.000       0.219       0.379\n",
       "ma.L1.D.pm2_5     0.3305      0.113      2.918      0.004       0.109       0.552\n",
       "ma.L2.D.pm2_5    -0.6139      0.089     -6.934      0.000      -0.787      -0.440\n",
       "ma.L3.D.pm2_5    -0.7165      0.081     -8.843      0.000      -0.875      -0.558\n",
       "                                    Roots                                    \n",
       "=============================================================================\n",
       "                 Real           Imaginary           Modulus         Frequency\n",
       "-----------------------------------------------------------------------------\n",
       "AR.1           -0.8613           -0.7442j            1.1383           -0.3866\n",
       "AR.2           -0.8613           +0.7442j            1.1383            0.3866\n",
       "AR.3            2.5817           -0.0000j            2.5817           -0.0000\n",
       "MA.1            1.0000           -0.0000j            1.0000           -0.0000\n",
       "MA.2           -0.9284           -0.7305j            1.1814           -0.3939\n",
       "MA.3           -0.9284           +0.7305j            1.1814            0.3939\n",
       "-----------------------------------------------------------------------------\n",
       "\"\"\""
      ]
     },
     "execution_count": 12,
     "metadata": {},
     "output_type": "execute_result"
    }
   ],
   "source": [
    "model = ARIMA (train['pm2_5'], order = (3, 1, 3))\n",
    "result = model.fit()\n",
    "result.summary()"
   ]
  },
  {
   "cell_type": "markdown",
   "metadata": {},
   "source": [
    "### Predicted results"
   ]
  },
  {
   "cell_type": "code",
   "execution_count": 13,
   "metadata": {},
   "outputs": [
    {
     "data": {
      "text/plain": [
       "2014-12-18    199.908797\n",
       "2014-12-19     44.052065\n",
       "2014-12-20     45.763688\n",
       "2014-12-21      5.337968\n",
       "2014-12-22     -3.608076\n",
       "2014-12-23     15.714154\n",
       "2014-12-24    -12.278367\n",
       "2014-12-25      6.458320\n",
       "2014-12-26      1.770753\n",
       "2014-12-27     -6.993145\n",
       "2014-12-28      8.069068\n",
       "2014-12-29     -5.272579\n",
       "2014-12-30      0.809158\n",
       "2014-12-31      3.008439\n",
       "Freq: D, dtype: float64"
      ]
     },
     "execution_count": 13,
     "metadata": {},
     "output_type": "execute_result"
    }
   ],
   "source": [
    "# Get predicted values for 14 days\n",
    "pred = result.predict(start = test.index[0], end = test.index[-1])\n",
    "pred"
   ]
  },
  {
   "cell_type": "markdown",
   "metadata": {},
   "source": [
    "### Residual plot"
   ]
  },
  {
   "cell_type": "code",
   "execution_count": 14,
   "metadata": {},
   "outputs": [
    {
     "data": {
      "text/plain": [
       "[<matplotlib.lines.Line2D at 0x2312188d7f0>]"
      ]
     },
     "execution_count": 14,
     "metadata": {},
     "output_type": "execute_result"
    },
    {
     "data": {
      "image/png": "[encoded data removed]",
      "text/plain": [
       "<matplotlib.figure.Figure at 0x23120c61dd8>"
      ]
     },
     "metadata": {},
     "output_type": "display_data"
    }
   ],
   "source": [
    "plt.figure(figsize = (12, 8))\n",
    "plt.plot(result.resid)"
   ]
  },
  {
   "cell_type": "markdown",
   "metadata": {},
   "source": [
    "### Residual Normality"
   ]
  },
  {
   "cell_type": "code",
   "execution_count": 15,
   "metadata": {},
   "outputs": [
    {
     "data": {
      "text/plain": [
       "NormaltestResult(statistic=57.568511464744368, pvalue=3.1561422553827246e-13)"
      ]
     },
     "execution_count": 15,
     "metadata": {},
     "output_type": "execute_result"
    }
   ],
   "source": [
    "from scipy import stats\n",
    "\n",
    "stats.normaltest(result.resid)"
   ]
  },
  {
   "cell_type": "code",
   "execution_count": 16,
   "metadata": {},
   "outputs": [
    {
     "data": {
      "image/png": "[encoded data removed]",
      "text/plain": [
       "<matplotlib.figure.Figure at 0x23121968e48>"
      ]
     },
     "metadata": {},
     "output_type": "display_data"
    }
   ],
   "source": [
    "from statsmodels.graphics.api import qqplot\n",
    "\n",
    "qqplot(result.resid, line = 'q', fit = True)\n",
    "plt.show()"
   ]
  },
  {
   "cell_type": "code",
   "execution_count": 17,
   "metadata": {},
   "outputs": [
    {
     "data": {
      "text/plain": [
       "1.9855518882419787"
      ]
     },
     "execution_count": 17,
     "metadata": {},
     "output_type": "execute_result"
    }
   ],
   "source": [
    "from statsmodels.stats.stattools import durbin_watson\n",
    "\n",
    "durbin_watson(result.resid.values)"
   ]
  },
  {
   "cell_type": "markdown",
   "metadata": {},
   "source": [
    "### Transform data back by adding the previous year results"
   ]
  },
  {
   "cell_type": "code",
   "execution_count": 18,
   "metadata": {
    "collapsed": true
   },
   "outputs": [],
   "source": [
    "y_test = test['pm2_5'] + data.loc['2013-12', 'pm2_5'].tail(14).values"
   ]
  },
  {
   "cell_type": "markdown",
   "metadata": {},
   "source": [
    "### Transform predicted data by adding previous year results"
   ]
  },
  {
   "cell_type": "code",
   "execution_count": 19,
   "metadata": {
    "collapsed": true
   },
   "outputs": [],
   "source": [
    "y_pred = pred + + data.loc['2013-12', 'pm2_5'].tail(14).values"
   ]
  },
  {
   "cell_type": "markdown",
   "metadata": {},
   "source": [
    "### Get mean squared error"
   ]
  },
  {
   "cell_type": "code",
   "execution_count": 20,
   "metadata": {},
   "outputs": [
    {
     "data": {
      "text/plain": [
       "191.78781348437082"
      ]
     },
     "execution_count": 20,
     "metadata": {},
     "output_type": "execute_result"
    }
   ],
   "source": [
    "from sklearn.metrics import mean_squared_error\n",
    "\n",
    "rmse = np.sqrt(mean_squared_error(y_test, y_pred))\n",
    "rmse"
   ]
  },
  {
   "cell_type": "markdown",
   "metadata": {},
   "source": [
    "### Plot Test Results"
   ]
  },
  {
   "cell_type": "code",
   "execution_count": 21,
   "metadata": {},
   "outputs": [
    {
     "data": {
      "image/png": "[encoded data removed]",
      "text/plain": [
       "<matplotlib.figure.Figure at 0x2312405b240>"
      ]
     },
     "metadata": {},
     "output_type": "display_data"
    }
   ],
   "source": [
    "plt.figure(figsize = (12, 8))\n",
    "plt.title('Actual vs Predicted result for last 14 days with RMSE of {:.3f} PM2.5 Measurement'.format(rmse))\n",
    "y_pred.plot(color = 'r', lw = 3, label = 'Predicted')\n",
    "y_test.plot(lw = 3, label = 'Actual')\n",
    "plt.legend(loc = 'best')\n",
    "plt.show()"
   ]
  }
 ],
 "metadata": {
  "hide_input": false,
  "kernelspec": {
   "display_name": "Python 3",
   "language": "python",
   "name": "python3"
  },
  "language_info": {
   "codemirror_mode": {
    "name": "ipython",
    "version": 3
   },
   "file_extension": ".py",
   "mimetype": "text/x-python",
   "name": "python",
   "nbconvert_exporter": "python",
   "pygments_lexer": "ipython3",
   "version": "3.6.1"
  }
 },
 "nbformat": 4,
 "nbformat_minor": 2
}
